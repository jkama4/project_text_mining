{
  "cells": [
    {
      "cell_type": "markdown",
      "id": "35a5a47f",
      "metadata": {
        "id": "35a5a47f"
      },
      "source": [
        "# Named Entity Recognition and Classification (NERC) - BERT"
      ]
    },
    {
      "cell_type": "code",
      "execution_count": null,
      "id": "oCVGqQo3Nlnz",
      "metadata": {
        "id": "oCVGqQo3Nlnz"
      },
      "outputs": [],
      "source": [
        "import csv\n",
        "import spacy\n",
        "import re\n",
        "import nltk\n",
        "import pandas as pd\n",
        "\n",
        "from typing import Set, List, Dict, Tuple\n",
        "\n",
        "from datasets import load_dataset, load_metric\n",
        "\n",
        "NLP = spacy.load(\"en_core_web_sm\")\n",
        "\n",
        "\n",
        "def word_shape(word: str):\n",
        "    shape = re.sub(\"[A-Z]\", \"X\", word)\n",
        "    shape = re.sub(\"[a-z]\", \"x\", shape)\n",
        "    shape = re.sub(\"[0-9]\", \"d\", shape)\n",
        "    shape = re.sub(r\"\\W\", \"w\", shape)\n",
        "    return shape\n",
        "\n",
        "\n",
        "def gather_test_bio_ner_tags(file_name: str) -> Set[str]:\n",
        "    bio_ner_tags = set()\n",
        "    with open(file_name, \"r\") as f:\n",
        "        data = csv.DictReader(f=f, delimiter=\"\\t\")\n",
        "        for row in data:\n",
        "            bio_ner_tags.add(row[\"bio_ner_tag\"])\n",
        "\n",
        "    return bio_ner_tags\n",
        "\n",
        "\n",
        "def nerc_data_to_file(raw_data: Dataset, file_name: str):\n",
        "    try:\n",
        "        with open(file_name, \"w\", newline=\"\", encoding=\"utf-8\") as f:\n",
        "            writer: csv.writer = csv.writer(f, delimiter=\"\\t\")\n",
        "            writer.writerow([\"sentence_id\", \"token_id\", \"token\", \"bio_ner_tag\"])\n",
        "\n",
        "            for idx, sent in enumerate(raw_data):\n",
        "                sentence = \" \".join(sent[\"tokens\"])\n",
        "                doc = NLP(sentence)\n",
        "\n",
        "                bio_tags = [\"O\"] * len(doc)\n",
        "\n",
        "                for ent in doc.ents:\n",
        "                    bio_tags[ent.start] = f\"B-{ent.label_}\"\n",
        "                    for i in range(ent.start + 1, ent.end):\n",
        "                        bio_tags[i] = f\"I-{ent.label_}\"\n",
        "\n",
        "                for token_id, token in enumerate(doc):\n",
        "                    writer.writerow([idx, token_id, token.text, bio_tags[token_id]])\n",
        "\n",
        "            f.close()\n",
        "\n",
        "        print(\"Converted successfully!\")\n",
        "    except Exception as e:\n",
        "        return {\"error\": str(e)}\n",
        "\n",
        "\n",
        "def gather_tokens_and_tags(df: pd.DataFrame) -> Tuple[List[str], List[str]]:\n",
        "    X, y = [], []\n",
        "\n",
        "    sent_tokens = []\n",
        "    sent_tags = []\n",
        "\n",
        "    for token, tag in zip(df[\"token\"], df[\"bio_ner_tag\"]):\n",
        "        sent_tokens.append(token)\n",
        "        sent_tags.append(tag)\n",
        "\n",
        "        if token in [\".\", \"!\", \"?\"]:\n",
        "            X.append(sent_tokens)\n",
        "            y.append(sent_tags)\n",
        "            sent_tokens = []\n",
        "            sent_tags = []\n",
        "\n",
        "    if sent_tokens:\n",
        "        X.append(sent_tokens)\n",
        "        y.append(sent_tags)\n",
        "\n",
        "    return X, y\n",
        "\n",
        "\n",
        "\n",
        "def sentiment_data_to_file(raw_data: Dataset, file_name: str):\n",
        "    try:\n",
        "        with open(file_name, \"w\", newline=\"\", encoding=\"utf-8\") as f:\n",
        "            writer: csv.writer = csv.writer(f, delimiter=\"\\t\")\n",
        "            writer.writerow([\"sentence_id\", \"sentence\", \"sentiment\"])\n",
        "\n",
        "            for idx, elem in enumerate(raw_data):\n",
        "                sentence = elem[\"sentence\"]\n",
        "                label = \"positive\" if elem[\"label\"] == 1 else \"negative\"\n",
        "\n",
        "                writer.writerow([idx, sentence, label])\n",
        "\n",
        "        f.close()\n",
        "        print(\"Converted successfully!\")\n",
        "    except Exception as e:\n",
        "        return {\"message\": str(e)}\n",
        "\n",
        "\n",
        "def topic_data_to_file(raw_data: Dataset, file_path: str):\n",
        "    with open(file_path, \"w\", newline=\"\", encoding=\"utf-8\") as f:\n",
        "        writer = csv.writer(f, delimiter = \"\\t\")\n",
        "        writer.writerow([\"id\", \"question\", \"category\"])\n",
        "        for entry in raw_data:\n",
        "            id_ = entry[\"id\"]\n",
        "            q = entry[\"question\"]\n",
        "            category = entry[\"category\"]\n",
        "\n",
        "            if category == \"movies\":\n",
        "                category = \"movie\"\n",
        "            elif category == \"books\":\n",
        "                category = \"book\"\n",
        "\n",
        "            writer.writerow([id_, q, category])\n",
        "\n",
        "        f.close()\n",
        "\n",
        "\n",
        "def extract_features(sentence, pos_tags, i):\n",
        "    word = sentence[i]\n",
        "    pos = pos_tags[i]\n",
        "\n",
        "    if not isinstance(word, str):\n",
        "        word = str(word)\n",
        "\n",
        "    features = {\n",
        "        \"bias\": 1.0,\n",
        "        \"word.lower()\": word.lower(),\n",
        "        \"word[-3:]\": word[-3:],\n",
        "        \"word[-2:]\": word[-2:],\n",
        "        \"word.isupper()\": word.isupper(),\n",
        "        \"word.istitle()\": word.istitle(),\n",
        "        \"word.isdigit()\": word.isdigit(),\n",
        "        \"pos\": pos,\n",
        "        \"word.shape\": word_shape(word=word)\n",
        "\n",
        "    }\n",
        "    if i > 0:\n",
        "        word1 = sentence[i-1]\n",
        "        pos1 = pos_tags[i-1]\n",
        "\n",
        "        if not isinstance(word1, str):\n",
        "            word1 = str(word1)\n",
        "\n",
        "        features.update({\n",
        "            \"-1:word.lower()\": word1.lower(),\n",
        "            \"-1:word.istitle()\": word1.istitle(),\n",
        "            \"-1:word.isupper()\": word1.isupper(),\n",
        "            \"-1:pos\": pos1,\n",
        "            \"-1:word.shape\": word_shape(word=word1)\n",
        "        })\n",
        "    else:\n",
        "        features[\"BOS\"] = True\n",
        "\n",
        "    if i < len(sentence) - 1:\n",
        "        word1 = sentence[i+1]\n",
        "        pos1 = pos_tags[i+1]\n",
        "\n",
        "        if not isinstance(word1, str):\n",
        "            word1 = str(word1)\n",
        "\n",
        "        features.update({\n",
        "            \"+1:word.lower()\": word1.lower(),\n",
        "            \"+1:word.istitle()\": word1.istitle(),\n",
        "            \"+1:word.isupper()\": word1.isupper(),\n",
        "            \"+1:pos\": pos1,\n",
        "            \"+1:pos\": word_shape(word=word1)\n",
        "        })\n",
        "    else:\n",
        "        features[\"EOS\"] = True\n",
        "\n",
        "    return features\n",
        "\n",
        "def sentence_to_features(sentence):\n",
        "    cleaned_sentence = [str(token) if not isinstance(token, str) else token for token in sentence]\n",
        "    pos_tags = [pos for _, pos in nltk.pos_tag(cleaned_sentence)]\n",
        "    return [extract_features(cleaned_sentence, pos_tags, i) for i in range(len(sentence))]\n",
        "\n"
      ]
    },
    {
      "cell_type": "code",
      "execution_count": null,
      "id": "70203816",
      "metadata": {
        "id": "70203816"
      },
      "outputs": [],
      "source": [
        "import pandas as pd\n",
        "import numpy as np\n",
        "import torch\n",
        "import seqeval\n",
        "\n",
        "from typing import List, Dict, Union\n",
        "from transformers import AutoTokenizer, AutoModelForTokenClassification, TrainingArguments, Trainer\n",
        "from torch.utils.data import Dataset\n",
        "from datasets import Dataset as hf_Dataset"
      ]
    },
    {
      "cell_type": "code",
      "execution_count": null,
      "id": "62d65e3d",
      "metadata": {
        "id": "62d65e3d"
      },
      "outputs": [],
      "source": [
        "train_data_ner_file: str = r\"./NER-train.tsv\""
      ]
    },
    {
      "cell_type": "code",
      "execution_count": null,
      "id": "3df14fe3",
      "metadata": {
        "id": "3df14fe3"
      },
      "outputs": [],
      "source": [
        "df = pd.read_csv(train_data_ner_file, sep=\"\\t\")"
      ]
    },
    {
      "cell_type": "code",
      "execution_count": null,
      "id": "755db51c",
      "metadata": {
        "id": "755db51c"
      },
      "outputs": [],
      "source": [
        "X, y = gather_tokens_and_tags(df=df)\n",
        "\n",
        "train_data: List[Dict[str,str]] = []\n",
        "for tokens, ner_tags in zip(X, y):\n",
        "    tokens = [str(token) for token in tokens]\n",
        "    ner_tags = [str(ner_tag) for ner_tag in ner_tags]\n",
        "\n",
        "    train_data.append({\n",
        "        \"tokens\": np.asarray(tokens),\n",
        "        \"ner_tags\": np.asarray(ner_tags)\n",
        "    })\n",
        "\n",
        "dataset = hf_Dataset.from_list(train_data)"
      ]
    },
    {
      "cell_type": "code",
      "execution_count": null,
      "id": "422dd546",
      "metadata": {
        "id": "422dd546"
      },
      "outputs": [],
      "source": [
        "TOKENIZER = AutoTokenizer.from_pretrained(\"bert-base-cased\")"
      ]
    },
    {
      "cell_type": "code",
      "execution_count": null,
      "id": "8cae95c5",
      "metadata": {
        "id": "8cae95c5"
      },
      "outputs": [],
      "source": [
        "label_list = sorted(set(label for seq in y for label in seq))\n",
        "label_to_id = {label: i for i, label in enumerate(label_list)}\n",
        "id_to_label = {i: label for label, i in label_to_id.items()}"
      ]
    },
    {
      "cell_type": "code",
      "execution_count": null,
      "id": "461f20d8",
      "metadata": {
        "id": "461f20d8"
      },
      "outputs": [],
      "source": [
        "def preprocess_function(examples):\n",
        "    tokenized_inputs = TOKENIZER(\n",
        "        examples[\"tokens\"],\n",
        "        is_split_into_words=True,\n",
        "        return_offsets_mapping=True,\n",
        "        padding=\"max_length\",\n",
        "        truncation=True\n",
        "    )\n",
        "\n",
        "    all_labels = []\n",
        "    for i, labels in enumerate(examples[\"ner_tags\"]):\n",
        "        word_ids = tokenized_inputs.word_ids(batch_index=i)\n",
        "        previous_word_idx = None\n",
        "        label_ids = []\n",
        "        for word_idx in word_ids:\n",
        "            if word_idx is None:\n",
        "                label_ids.append(-100)\n",
        "            elif word_idx != previous_word_idx:\n",
        "                label_ids.append(label_to_id[labels[word_idx]])\n",
        "            else:\n",
        "                label_ids.append(-100)\n",
        "            previous_word_idx = word_idx\n",
        "        all_labels.append(label_ids)\n",
        "\n",
        "    tokenized_inputs[\"labels\"] = all_labels\n",
        "    return tokenized_inputs"
      ]
    },
    {
      "cell_type": "code",
      "execution_count": null,
      "id": "c5602976",
      "metadata": {
        "colab": {
          "base_uri": "https://localhost:8080/",
          "height": 49,
          "referenced_widgets": [
            "55c89cb25d1e41babc8150a0ec463720",
            "6f73fa88b16f4efab3901d7b478aaf74",
            "e7a80e29029b413ab274b4afd583710b",
            "d520668ef9a6474b876f03303751a9bc",
            "202dbc47273d4e88bf047ce3fe9c1d18",
            "5ff3f29c20354422889bc966eda2d067",
            "2a6c18fdcb2b4f698680ec0fad48cbd8",
            "19f8c743a6d74cdda3917c06f188591d",
            "06ab6b12ab6b47a99a3788989c1da680",
            "1045394cb84f48cd93be8d84aad034c9",
            "1bbd8fcb61c44be99d8ec67f6b33267b"
          ]
        },
        "id": "c5602976",
        "outputId": "d90652b0-cae3-4a03-8eba-4785494846d4"
      },
      "outputs": [],
      "source": [
        "tokenized_dataset = dataset.map(preprocess_function, batched=True)"
      ]
    },
    {
      "cell_type": "code",
      "execution_count": null,
      "id": "abbe4999",
      "metadata": {
        "id": "abbe4999"
      },
      "outputs": [],
      "source": [
        "# tokenized_dataset.set_format(\n",
        "#     type=\"torch\",\n",
        "#     columns=[\"input_ids\", \"attention_mask\", \"token_type_ids\", \"labels\"]\n",
        "# )"
      ]
    },
    {
      "cell_type": "code",
      "execution_count": null,
      "id": "cdd9da54",
      "metadata": {
        "colab": {
          "base_uri": "https://localhost:8080/"
        },
        "id": "cdd9da54",
        "outputId": "dc6dfb81-2376-4c31-e431-75675584b4f4"
      },
      "outputs": [],
      "source": [
        "model = AutoModelForTokenClassification.from_pretrained(\"bert-base-uncased\", num_labels=len(label_list))"
      ]
    },
    {
      "cell_type": "code",
      "execution_count": null,
      "id": "69578503",
      "metadata": {
        "id": "69578503"
      },
      "outputs": [],
      "source": [
        "output_dir = r\"./bert_model\""
      ]
    },
    {
      "cell_type": "code",
      "execution_count": null,
      "id": "3ff0ac9f",
      "metadata": {
        "id": "3ff0ac9f"
      },
      "outputs": [],
      "source": [
        "training_args = TrainingArguments(\n",
        "    output_dir=output_dir,\n",
        "    # evaluation_strategy=\"no\",\n",
        "    eval_steps=250,\n",
        "    per_device_train_batch_size=8,\n",
        "    per_device_eval_batch_size=8,\n",
        "    num_train_epochs=3,\n",
        "    learning_rate=2e-5,\n",
        "    weight_decay=0.4,\n",
        "    logging_steps=100,\n",
        "    save_steps=250,\n",
        "    fp16=True\n",
        ")"
      ]
    },
    {
      "cell_type": "code",
      "execution_count": null,
      "id": "5fba874b",
      "metadata": {
        "id": "5fba874b"
      },
      "outputs": [],
      "source": [
        "trainer = Trainer(\n",
        "    model=model,\n",
        "    args=training_args,\n",
        "    train_dataset=tokenized_dataset,\n",
        "    processing_class=TOKENIZER\n",
        ")"
      ]
    },
    {
      "cell_type": "code",
      "execution_count": null,
      "id": "bcq-C_yIUR3P",
      "metadata": {
        "colab": {
          "base_uri": "https://localhost:8080/"
        },
        "id": "bcq-C_yIUR3P",
        "outputId": "3c75b7ff-86e2-4f9f-ea47-f78ef89ea32f"
      },
      "outputs": [],
      "source": [
        "print(tokenized_dataset[0])"
      ]
    },
    {
      "cell_type": "code",
      "execution_count": null,
      "id": "6b0c8bb8",
      "metadata": {
        "colab": {
          "base_uri": "https://localhost:8080/",
          "height": 1000
        },
        "id": "6b0c8bb8",
        "outputId": "a5819511-a0a3-4d18-f26e-a05b1c200617"
      },
      "outputs": [],
      "source": [
        "def start_finetuning(trainer: Trainer):\n",
        "    print(\"Starting fine-tuning...\")\n",
        "    trainer.train()\n",
        "    print(\"Fine-tuning complete!\")\n",
        "\n",
        "start_finetuning(trainer=trainer)"
      ]
    },
    {
      "cell_type": "code",
      "execution_count": null,
      "id": "kUdSawMeQoh2",
      "metadata": {
        "colab": {
          "base_uri": "https://localhost:8080/"
        },
        "id": "kUdSawMeQoh2",
        "outputId": "ca9a1a5a-7f71-48da-98fd-611664f68828"
      },
      "outputs": [],
      "source": [
        "trainer.state.log_history"
      ]
    },
    {
      "cell_type": "code",
      "execution_count": null,
      "id": "qh966kTZjtnR",
      "metadata": {
        "id": "qh966kTZjtnR"
      },
      "outputs": [],
      "source": [
        "test_data_path = \"./NER-test.tsv\""
      ]
    },
    {
      "cell_type": "code",
      "execution_count": null,
      "id": "pWfDCJBBk01U",
      "metadata": {
        "id": "pWfDCJBBk01U"
      },
      "outputs": [],
      "source": [
        "test_df: pd.DataFrame = pd.read_csv(test_data_path, sep=\"\\t\")"
      ]
    },
    {
      "cell_type": "code",
      "execution_count": null,
      "id": "b0c0UpPrk69x",
      "metadata": {
        "colab": {
          "base_uri": "https://localhost:8080/",
          "height": 206
        },
        "id": "b0c0UpPrk69x",
        "outputId": "93323e73-70c6-4a0b-b7c2-e72fc31adbfd"
      },
      "outputs": [],
      "source": [
        "test_df.head()"
      ]
    },
    {
      "cell_type": "code",
      "execution_count": null,
      "id": "XWgPrdP1k84r",
      "metadata": {
        "id": "XWgPrdP1k84r"
      },
      "outputs": [],
      "source": [
        "X_test, y_test = gather_tokens_and_tags(df=test_df)\n",
        "\n",
        "test_data: List[Dict[str,str]] = []\n",
        "for tokens, ner_tags in zip(X_test, y_test):\n",
        "    tokens = [str(token) for token in tokens]\n",
        "    ner_tags = [str(ner_tag) for ner_tag in ner_tags]\n",
        "\n",
        "    test_data.append({\n",
        "        \"tokens\": np.asarray(tokens),\n",
        "        \"ner_tags\": np.asarray(ner_tags)\n",
        "    })\n",
        "\n",
        "test_dataset = hf_Dataset.from_list(test_data)"
      ]
    },
    {
      "cell_type": "code",
      "execution_count": null,
      "id": "xF5d933Qnivg",
      "metadata": {
        "id": "xF5d933Qnivg"
      },
      "outputs": [],
      "source": [
        "def test_preprocess_function(examples):\n",
        "    tokenized_inputs = TOKENIZER(\n",
        "        examples[\"tokens\"],\n",
        "        truncation=True,\n",
        "        is_split_into_words=True,\n",
        "        padding='max_length',\n",
        "        max_length=128\n",
        "    )\n",
        "\n",
        "    labels = []\n",
        "    for i, label_seq in enumerate(examples[\"ner_tags\"]):\n",
        "        word_ids = tokenized_inputs.word_ids(batch_index=i)\n",
        "        label_ids = []\n",
        "        previous_word_idx = None\n",
        "        for word_idx in word_ids:\n",
        "            if word_idx is None:\n",
        "                label_ids.append(-100)\n",
        "            elif word_idx != previous_word_idx:\n",
        "                label = label_seq[word_idx]\n",
        "                label_id = label_to_id.get(label, -100)  # fallback if label is unknown\n",
        "                label_ids.append(label_id)\n",
        "            else:\n",
        "                label_ids.append(-100)\n",
        "            previous_word_idx = word_idx\n",
        "        labels.append(label_ids)\n",
        "\n",
        "    tokenized_inputs[\"labels\"] = labels\n",
        "    return tokenized_inputs\n"
      ]
    },
    {
      "cell_type": "code",
      "execution_count": null,
      "id": "k5SSNW85lTar",
      "metadata": {
        "colab": {
          "base_uri": "https://localhost:8080/",
          "height": 49,
          "referenced_widgets": [
            "432f7df50f0145a58f5fbfddc080e89d",
            "16bbf57a57cc4c7f893d48622ee30046",
            "0799e7e55a9d4667a156661fe017c0f9",
            "f2315acf30654dd9bdd79b2e8a4b96f2",
            "4c52c12f68064686a8843257e86607be",
            "3a0a2973fa0a408eb6a6e2c476ad72fe",
            "eb3c7d0368ea499b851cdd3c805fd0eb",
            "0baa0777401549b0ba1c97c500dac476",
            "cfe99e44baea4e9696aadc10a7cda128",
            "1ad13ad51be34d6d98b26035952ef6b0",
            "0dabff0f81cd4a2dba077bd8794f730c"
          ]
        },
        "id": "k5SSNW85lTar",
        "outputId": "6402c5c4-f78e-4fca-c61f-e01e0b33e9e2"
      },
      "outputs": [],
      "source": [
        "tokenized_test_dataset = test_dataset.map(\n",
        "    lambda examples: test_preprocess_function(examples),\n",
        "    batched=True\n",
        ")\n"
      ]
    },
    {
      "cell_type": "code",
      "execution_count": null,
      "id": "n_sUbPFqllWR",
      "metadata": {
        "id": "n_sUbPFqllWR"
      },
      "outputs": [],
      "source": [
        "metric = load_metric(\"seqeval\")\n",
        "\n",
        "def compute_metrics(p):\n",
        "    predictions, labels = p\n",
        "    predictions = np.argmax(predictions, axis=2)\n",
        "\n",
        "    true_predictions = [\n",
        "        [id_to_label[pred] for pred, label in zip(pred_seq, label_seq) if label != -100]\n",
        "        for pred_seq, label_seq in zip(predictions, labels)\n",
        "    ]\n",
        "    true_labels = [\n",
        "        [id_to_label[label] for pred, label in zip(pred_seq, label_seq) if label != -100]\n",
        "        for pred_seq, label_seq in zip(predictions, labels)\n",
        "    ]\n",
        "\n",
        "    results = metric.compute(predictions=true_predictions, references=true_labels)\n",
        "    return {\n",
        "        \"precision\": results[\"overall_precision\"],\n",
        "        \"recall\": results[\"overall_recall\"],\n",
        "        \"f1\": results[\"overall_f1\"],\n",
        "        \"accuracy\": results[\"overall_accuracy\"],\n",
        "    }\n"
      ]
    },
    {
      "cell_type": "code",
      "execution_count": null,
      "id": "Hmv3QJnSolXC",
      "metadata": {
        "id": "Hmv3QJnSolXC"
      },
      "outputs": [],
      "source": [
        "id_to_label = {v: k for k, v in label_to_id.items()}"
      ]
    },
    {
      "cell_type": "code",
      "execution_count": null,
      "id": "qawv5U-Fo1jM",
      "metadata": {
        "colab": {
          "base_uri": "https://localhost:8080/"
        },
        "id": "qawv5U-Fo1jM",
        "outputId": "4b5173c8-1a92-4ee8-a829-8a2d1aba4246"
      },
      "outputs": [],
      "source": [
        "eval_trainer = Trainer(\n",
        "    model=model,\n",
        "    tokenizer=TOKENIZER,\n",
        "    compute_metrics=compute_metrics\n",
        ")"
      ]
    },
    {
      "cell_type": "code",
      "execution_count": null,
      "id": "LmU_Etrto7YZ",
      "metadata": {
        "colab": {
          "base_uri": "https://localhost:8080/",
          "height": 144
        },
        "id": "LmU_Etrto7YZ",
        "outputId": "ee0faf27-f114-4788-c541-9eb3a0b2df05"
      },
      "outputs": [],
      "source": [
        "results = eval_trainer.evaluate(tokenized_test_dataset)\n",
        "print(results)"
      ]
    },
    {
      "cell_type": "code",
      "execution_count": null,
      "id": "IAa-gM6ao9TI",
      "metadata": {
        "colab": {
          "base_uri": "https://localhost:8080/",
          "height": 384
        },
        "id": "IAa-gM6ao9TI",
        "outputId": "0480ae9f-198c-4cd2-bad6-9d977bea0277"
      },
      "outputs": [],
      "source": [
        "predictions, labels, _ = eval_trainer.predict(tokenized_test_dataset)\n",
        "pred_labels = np.argmax(predictions, axis=2)\n",
        "\n",
        "for i in range(5):  # show 5 examples\n",
        "    tokens = test_dataset[i][\"tokens\"]\n",
        "    preds = [id_to_label[pred] for pred, label in zip(pred_labels[i], labels[i]) if label != -100]\n",
        "    golds = [id_to_label[label] for pred, label in zip(pred_labels[i], labels[i]) if label != -100]\n",
        "\n",
        "    print(f\"TOKENS : {tokens}\")\n",
        "    print(f\"PRED   : {preds}\")\n",
        "    print(f\"GOLD   : {golds}\")\n",
        "    print(\"-\" * 50)\n"
      ]
    }
  ],
  "metadata": {
    "accelerator": "GPU",
    "colab": {
      "gpuType": "T4",
      "provenance": []
    },
    "kernelspec": {
      "display_name": "text_mining_env_fixed",
      "language": "python",
      "name": "python3"
    },
    "language_info": {
      "codemirror_mode": {
        "name": "ipython",
        "version": 3
      },
      "file_extension": ".py",
      "mimetype": "text/x-python",
      "name": "python",
      "nbconvert_exporter": "python",
      "pygments_lexer": "ipython3",
      "version": "3.12.2"
    },
    "widgets": {
      "application/vnd.jupyter.widget-state+json": {
        "06ab6b12ab6b47a99a3788989c1da680": {
          "model_module": "@jupyter-widgets/controls",
          "model_module_version": "1.5.0",
          "model_name": "ProgressStyleModel",
          "state": {
            "_model_module": "@jupyter-widgets/controls",
            "_model_module_version": "1.5.0",
            "_model_name": "ProgressStyleModel",
            "_view_count": null,
            "_view_module": "@jupyter-widgets/base",
            "_view_module_version": "1.2.0",
            "_view_name": "StyleView",
            "bar_color": null,
            "description_width": ""
          }
        },
        "0799e7e55a9d4667a156661fe017c0f9": {
          "model_module": "@jupyter-widgets/controls",
          "model_module_version": "1.5.0",
          "model_name": "FloatProgressModel",
          "state": {
            "_dom_classes": [],
            "_model_module": "@jupyter-widgets/controls",
            "_model_module_version": "1.5.0",
            "_model_name": "FloatProgressModel",
            "_view_count": null,
            "_view_module": "@jupyter-widgets/controls",
            "_view_module_version": "1.5.0",
            "_view_name": "ProgressView",
            "bar_style": "success",
            "description": "",
            "description_tooltip": null,
            "layout": "IPY_MODEL_0baa0777401549b0ba1c97c500dac476",
            "max": 15,
            "min": 0,
            "orientation": "horizontal",
            "style": "IPY_MODEL_cfe99e44baea4e9696aadc10a7cda128",
            "value": 15
          }
        },
        "0baa0777401549b0ba1c97c500dac476": {
          "model_module": "@jupyter-widgets/base",
          "model_module_version": "1.2.0",
          "model_name": "LayoutModel",
          "state": {
            "_model_module": "@jupyter-widgets/base",
            "_model_module_version": "1.2.0",
            "_model_name": "LayoutModel",
            "_view_count": null,
            "_view_module": "@jupyter-widgets/base",
            "_view_module_version": "1.2.0",
            "_view_name": "LayoutView",
            "align_content": null,
            "align_items": null,
            "align_self": null,
            "border": null,
            "bottom": null,
            "display": null,
            "flex": null,
            "flex_flow": null,
            "grid_area": null,
            "grid_auto_columns": null,
            "grid_auto_flow": null,
            "grid_auto_rows": null,
            "grid_column": null,
            "grid_gap": null,
            "grid_row": null,
            "grid_template_areas": null,
            "grid_template_columns": null,
            "grid_template_rows": null,
            "height": null,
            "justify_content": null,
            "justify_items": null,
            "left": null,
            "margin": null,
            "max_height": null,
            "max_width": null,
            "min_height": null,
            "min_width": null,
            "object_fit": null,
            "object_position": null,
            "order": null,
            "overflow": null,
            "overflow_x": null,
            "overflow_y": null,
            "padding": null,
            "right": null,
            "top": null,
            "visibility": null,
            "width": null
          }
        },
        "0dabff0f81cd4a2dba077bd8794f730c": {
          "model_module": "@jupyter-widgets/controls",
          "model_module_version": "1.5.0",
          "model_name": "DescriptionStyleModel",
          "state": {
            "_model_module": "@jupyter-widgets/controls",
            "_model_module_version": "1.5.0",
            "_model_name": "DescriptionStyleModel",
            "_view_count": null,
            "_view_module": "@jupyter-widgets/base",
            "_view_module_version": "1.2.0",
            "_view_name": "StyleView",
            "description_width": ""
          }
        },
        "1045394cb84f48cd93be8d84aad034c9": {
          "model_module": "@jupyter-widgets/base",
          "model_module_version": "1.2.0",
          "model_name": "LayoutModel",
          "state": {
            "_model_module": "@jupyter-widgets/base",
            "_model_module_version": "1.2.0",
            "_model_name": "LayoutModel",
            "_view_count": null,
            "_view_module": "@jupyter-widgets/base",
            "_view_module_version": "1.2.0",
            "_view_name": "LayoutView",
            "align_content": null,
            "align_items": null,
            "align_self": null,
            "border": null,
            "bottom": null,
            "display": null,
            "flex": null,
            "flex_flow": null,
            "grid_area": null,
            "grid_auto_columns": null,
            "grid_auto_flow": null,
            "grid_auto_rows": null,
            "grid_column": null,
            "grid_gap": null,
            "grid_row": null,
            "grid_template_areas": null,
            "grid_template_columns": null,
            "grid_template_rows": null,
            "height": null,
            "justify_content": null,
            "justify_items": null,
            "left": null,
            "margin": null,
            "max_height": null,
            "max_width": null,
            "min_height": null,
            "min_width": null,
            "object_fit": null,
            "object_position": null,
            "order": null,
            "overflow": null,
            "overflow_x": null,
            "overflow_y": null,
            "padding": null,
            "right": null,
            "top": null,
            "visibility": null,
            "width": null
          }
        },
        "16bbf57a57cc4c7f893d48622ee30046": {
          "model_module": "@jupyter-widgets/controls",
          "model_module_version": "1.5.0",
          "model_name": "HTMLModel",
          "state": {
            "_dom_classes": [],
            "_model_module": "@jupyter-widgets/controls",
            "_model_module_version": "1.5.0",
            "_model_name": "HTMLModel",
            "_view_count": null,
            "_view_module": "@jupyter-widgets/controls",
            "_view_module_version": "1.5.0",
            "_view_name": "HTMLView",
            "description": "",
            "description_tooltip": null,
            "layout": "IPY_MODEL_3a0a2973fa0a408eb6a6e2c476ad72fe",
            "placeholder": "​",
            "style": "IPY_MODEL_eb3c7d0368ea499b851cdd3c805fd0eb",
            "value": "Map: 100%"
          }
        },
        "19f8c743a6d74cdda3917c06f188591d": {
          "model_module": "@jupyter-widgets/base",
          "model_module_version": "1.2.0",
          "model_name": "LayoutModel",
          "state": {
            "_model_module": "@jupyter-widgets/base",
            "_model_module_version": "1.2.0",
            "_model_name": "LayoutModel",
            "_view_count": null,
            "_view_module": "@jupyter-widgets/base",
            "_view_module_version": "1.2.0",
            "_view_name": "LayoutView",
            "align_content": null,
            "align_items": null,
            "align_self": null,
            "border": null,
            "bottom": null,
            "display": null,
            "flex": null,
            "flex_flow": null,
            "grid_area": null,
            "grid_auto_columns": null,
            "grid_auto_flow": null,
            "grid_auto_rows": null,
            "grid_column": null,
            "grid_gap": null,
            "grid_row": null,
            "grid_template_areas": null,
            "grid_template_columns": null,
            "grid_template_rows": null,
            "height": null,
            "justify_content": null,
            "justify_items": null,
            "left": null,
            "margin": null,
            "max_height": null,
            "max_width": null,
            "min_height": null,
            "min_width": null,
            "object_fit": null,
            "object_position": null,
            "order": null,
            "overflow": null,
            "overflow_x": null,
            "overflow_y": null,
            "padding": null,
            "right": null,
            "top": null,
            "visibility": null,
            "width": null
          }
        },
        "1ad13ad51be34d6d98b26035952ef6b0": {
          "model_module": "@jupyter-widgets/base",
          "model_module_version": "1.2.0",
          "model_name": "LayoutModel",
          "state": {
            "_model_module": "@jupyter-widgets/base",
            "_model_module_version": "1.2.0",
            "_model_name": "LayoutModel",
            "_view_count": null,
            "_view_module": "@jupyter-widgets/base",
            "_view_module_version": "1.2.0",
            "_view_name": "LayoutView",
            "align_content": null,
            "align_items": null,
            "align_self": null,
            "border": null,
            "bottom": null,
            "display": null,
            "flex": null,
            "flex_flow": null,
            "grid_area": null,
            "grid_auto_columns": null,
            "grid_auto_flow": null,
            "grid_auto_rows": null,
            "grid_column": null,
            "grid_gap": null,
            "grid_row": null,
            "grid_template_areas": null,
            "grid_template_columns": null,
            "grid_template_rows": null,
            "height": null,
            "justify_content": null,
            "justify_items": null,
            "left": null,
            "margin": null,
            "max_height": null,
            "max_width": null,
            "min_height": null,
            "min_width": null,
            "object_fit": null,
            "object_position": null,
            "order": null,
            "overflow": null,
            "overflow_x": null,
            "overflow_y": null,
            "padding": null,
            "right": null,
            "top": null,
            "visibility": null,
            "width": null
          }
        },
        "1bbd8fcb61c44be99d8ec67f6b33267b": {
          "model_module": "@jupyter-widgets/controls",
          "model_module_version": "1.5.0",
          "model_name": "DescriptionStyleModel",
          "state": {
            "_model_module": "@jupyter-widgets/controls",
            "_model_module_version": "1.5.0",
            "_model_name": "DescriptionStyleModel",
            "_view_count": null,
            "_view_module": "@jupyter-widgets/base",
            "_view_module_version": "1.2.0",
            "_view_name": "StyleView",
            "description_width": ""
          }
        },
        "202dbc47273d4e88bf047ce3fe9c1d18": {
          "model_module": "@jupyter-widgets/base",
          "model_module_version": "1.2.0",
          "model_name": "LayoutModel",
          "state": {
            "_model_module": "@jupyter-widgets/base",
            "_model_module_version": "1.2.0",
            "_model_name": "LayoutModel",
            "_view_count": null,
            "_view_module": "@jupyter-widgets/base",
            "_view_module_version": "1.2.0",
            "_view_name": "LayoutView",
            "align_content": null,
            "align_items": null,
            "align_self": null,
            "border": null,
            "bottom": null,
            "display": null,
            "flex": null,
            "flex_flow": null,
            "grid_area": null,
            "grid_auto_columns": null,
            "grid_auto_flow": null,
            "grid_auto_rows": null,
            "grid_column": null,
            "grid_gap": null,
            "grid_row": null,
            "grid_template_areas": null,
            "grid_template_columns": null,
            "grid_template_rows": null,
            "height": null,
            "justify_content": null,
            "justify_items": null,
            "left": null,
            "margin": null,
            "max_height": null,
            "max_width": null,
            "min_height": null,
            "min_width": null,
            "object_fit": null,
            "object_position": null,
            "order": null,
            "overflow": null,
            "overflow_x": null,
            "overflow_y": null,
            "padding": null,
            "right": null,
            "top": null,
            "visibility": null,
            "width": null
          }
        },
        "2a6c18fdcb2b4f698680ec0fad48cbd8": {
          "model_module": "@jupyter-widgets/controls",
          "model_module_version": "1.5.0",
          "model_name": "DescriptionStyleModel",
          "state": {
            "_model_module": "@jupyter-widgets/controls",
            "_model_module_version": "1.5.0",
            "_model_name": "DescriptionStyleModel",
            "_view_count": null,
            "_view_module": "@jupyter-widgets/base",
            "_view_module_version": "1.2.0",
            "_view_name": "StyleView",
            "description_width": ""
          }
        },
        "3a0a2973fa0a408eb6a6e2c476ad72fe": {
          "model_module": "@jupyter-widgets/base",
          "model_module_version": "1.2.0",
          "model_name": "LayoutModel",
          "state": {
            "_model_module": "@jupyter-widgets/base",
            "_model_module_version": "1.2.0",
            "_model_name": "LayoutModel",
            "_view_count": null,
            "_view_module": "@jupyter-widgets/base",
            "_view_module_version": "1.2.0",
            "_view_name": "LayoutView",
            "align_content": null,
            "align_items": null,
            "align_self": null,
            "border": null,
            "bottom": null,
            "display": null,
            "flex": null,
            "flex_flow": null,
            "grid_area": null,
            "grid_auto_columns": null,
            "grid_auto_flow": null,
            "grid_auto_rows": null,
            "grid_column": null,
            "grid_gap": null,
            "grid_row": null,
            "grid_template_areas": null,
            "grid_template_columns": null,
            "grid_template_rows": null,
            "height": null,
            "justify_content": null,
            "justify_items": null,
            "left": null,
            "margin": null,
            "max_height": null,
            "max_width": null,
            "min_height": null,
            "min_width": null,
            "object_fit": null,
            "object_position": null,
            "order": null,
            "overflow": null,
            "overflow_x": null,
            "overflow_y": null,
            "padding": null,
            "right": null,
            "top": null,
            "visibility": null,
            "width": null
          }
        },
        "432f7df50f0145a58f5fbfddc080e89d": {
          "model_module": "@jupyter-widgets/controls",
          "model_module_version": "1.5.0",
          "model_name": "HBoxModel",
          "state": {
            "_dom_classes": [],
            "_model_module": "@jupyter-widgets/controls",
            "_model_module_version": "1.5.0",
            "_model_name": "HBoxModel",
            "_view_count": null,
            "_view_module": "@jupyter-widgets/controls",
            "_view_module_version": "1.5.0",
            "_view_name": "HBoxView",
            "box_style": "",
            "children": [
              "IPY_MODEL_16bbf57a57cc4c7f893d48622ee30046",
              "IPY_MODEL_0799e7e55a9d4667a156661fe017c0f9",
              "IPY_MODEL_f2315acf30654dd9bdd79b2e8a4b96f2"
            ],
            "layout": "IPY_MODEL_4c52c12f68064686a8843257e86607be"
          }
        },
        "4c52c12f68064686a8843257e86607be": {
          "model_module": "@jupyter-widgets/base",
          "model_module_version": "1.2.0",
          "model_name": "LayoutModel",
          "state": {
            "_model_module": "@jupyter-widgets/base",
            "_model_module_version": "1.2.0",
            "_model_name": "LayoutModel",
            "_view_count": null,
            "_view_module": "@jupyter-widgets/base",
            "_view_module_version": "1.2.0",
            "_view_name": "LayoutView",
            "align_content": null,
            "align_items": null,
            "align_self": null,
            "border": null,
            "bottom": null,
            "display": null,
            "flex": null,
            "flex_flow": null,
            "grid_area": null,
            "grid_auto_columns": null,
            "grid_auto_flow": null,
            "grid_auto_rows": null,
            "grid_column": null,
            "grid_gap": null,
            "grid_row": null,
            "grid_template_areas": null,
            "grid_template_columns": null,
            "grid_template_rows": null,
            "height": null,
            "justify_content": null,
            "justify_items": null,
            "left": null,
            "margin": null,
            "max_height": null,
            "max_width": null,
            "min_height": null,
            "min_width": null,
            "object_fit": null,
            "object_position": null,
            "order": null,
            "overflow": null,
            "overflow_x": null,
            "overflow_y": null,
            "padding": null,
            "right": null,
            "top": null,
            "visibility": null,
            "width": null
          }
        },
        "55c89cb25d1e41babc8150a0ec463720": {
          "model_module": "@jupyter-widgets/controls",
          "model_module_version": "1.5.0",
          "model_name": "HBoxModel",
          "state": {
            "_dom_classes": [],
            "_model_module": "@jupyter-widgets/controls",
            "_model_module_version": "1.5.0",
            "_model_name": "HBoxModel",
            "_view_count": null,
            "_view_module": "@jupyter-widgets/controls",
            "_view_module_version": "1.5.0",
            "_view_name": "HBoxView",
            "box_style": "",
            "children": [
              "IPY_MODEL_6f73fa88b16f4efab3901d7b478aaf74",
              "IPY_MODEL_e7a80e29029b413ab274b4afd583710b",
              "IPY_MODEL_d520668ef9a6474b876f03303751a9bc"
            ],
            "layout": "IPY_MODEL_202dbc47273d4e88bf047ce3fe9c1d18"
          }
        },
        "5ff3f29c20354422889bc966eda2d067": {
          "model_module": "@jupyter-widgets/base",
          "model_module_version": "1.2.0",
          "model_name": "LayoutModel",
          "state": {
            "_model_module": "@jupyter-widgets/base",
            "_model_module_version": "1.2.0",
            "_model_name": "LayoutModel",
            "_view_count": null,
            "_view_module": "@jupyter-widgets/base",
            "_view_module_version": "1.2.0",
            "_view_name": "LayoutView",
            "align_content": null,
            "align_items": null,
            "align_self": null,
            "border": null,
            "bottom": null,
            "display": null,
            "flex": null,
            "flex_flow": null,
            "grid_area": null,
            "grid_auto_columns": null,
            "grid_auto_flow": null,
            "grid_auto_rows": null,
            "grid_column": null,
            "grid_gap": null,
            "grid_row": null,
            "grid_template_areas": null,
            "grid_template_columns": null,
            "grid_template_rows": null,
            "height": null,
            "justify_content": null,
            "justify_items": null,
            "left": null,
            "margin": null,
            "max_height": null,
            "max_width": null,
            "min_height": null,
            "min_width": null,
            "object_fit": null,
            "object_position": null,
            "order": null,
            "overflow": null,
            "overflow_x": null,
            "overflow_y": null,
            "padding": null,
            "right": null,
            "top": null,
            "visibility": null,
            "width": null
          }
        },
        "6f73fa88b16f4efab3901d7b478aaf74": {
          "model_module": "@jupyter-widgets/controls",
          "model_module_version": "1.5.0",
          "model_name": "HTMLModel",
          "state": {
            "_dom_classes": [],
            "_model_module": "@jupyter-widgets/controls",
            "_model_module_version": "1.5.0",
            "_model_name": "HTMLModel",
            "_view_count": null,
            "_view_module": "@jupyter-widgets/controls",
            "_view_module_version": "1.5.0",
            "_view_name": "HTMLView",
            "description": "",
            "description_tooltip": null,
            "layout": "IPY_MODEL_5ff3f29c20354422889bc966eda2d067",
            "placeholder": "​",
            "style": "IPY_MODEL_2a6c18fdcb2b4f698680ec0fad48cbd8",
            "value": "Map: 100%"
          }
        },
        "cfe99e44baea4e9696aadc10a7cda128": {
          "model_module": "@jupyter-widgets/controls",
          "model_module_version": "1.5.0",
          "model_name": "ProgressStyleModel",
          "state": {
            "_model_module": "@jupyter-widgets/controls",
            "_model_module_version": "1.5.0",
            "_model_name": "ProgressStyleModel",
            "_view_count": null,
            "_view_module": "@jupyter-widgets/base",
            "_view_module_version": "1.2.0",
            "_view_name": "StyleView",
            "bar_color": null,
            "description_width": ""
          }
        },
        "d520668ef9a6474b876f03303751a9bc": {
          "model_module": "@jupyter-widgets/controls",
          "model_module_version": "1.5.0",
          "model_name": "HTMLModel",
          "state": {
            "_dom_classes": [],
            "_model_module": "@jupyter-widgets/controls",
            "_model_module_version": "1.5.0",
            "_model_name": "HTMLModel",
            "_view_count": null,
            "_view_module": "@jupyter-widgets/controls",
            "_view_module_version": "1.5.0",
            "_view_name": "HTMLView",
            "description": "",
            "description_tooltip": null,
            "layout": "IPY_MODEL_1045394cb84f48cd93be8d84aad034c9",
            "placeholder": "​",
            "style": "IPY_MODEL_1bbd8fcb61c44be99d8ec67f6b33267b",
            "value": " 8128/8128 [00:07&lt;00:00, 1069.06 examples/s]"
          }
        },
        "e7a80e29029b413ab274b4afd583710b": {
          "model_module": "@jupyter-widgets/controls",
          "model_module_version": "1.5.0",
          "model_name": "FloatProgressModel",
          "state": {
            "_dom_classes": [],
            "_model_module": "@jupyter-widgets/controls",
            "_model_module_version": "1.5.0",
            "_model_name": "FloatProgressModel",
            "_view_count": null,
            "_view_module": "@jupyter-widgets/controls",
            "_view_module_version": "1.5.0",
            "_view_name": "ProgressView",
            "bar_style": "success",
            "description": "",
            "description_tooltip": null,
            "layout": "IPY_MODEL_19f8c743a6d74cdda3917c06f188591d",
            "max": 8128,
            "min": 0,
            "orientation": "horizontal",
            "style": "IPY_MODEL_06ab6b12ab6b47a99a3788989c1da680",
            "value": 8128
          }
        },
        "eb3c7d0368ea499b851cdd3c805fd0eb": {
          "model_module": "@jupyter-widgets/controls",
          "model_module_version": "1.5.0",
          "model_name": "DescriptionStyleModel",
          "state": {
            "_model_module": "@jupyter-widgets/controls",
            "_model_module_version": "1.5.0",
            "_model_name": "DescriptionStyleModel",
            "_view_count": null,
            "_view_module": "@jupyter-widgets/base",
            "_view_module_version": "1.2.0",
            "_view_name": "StyleView",
            "description_width": ""
          }
        },
        "f2315acf30654dd9bdd79b2e8a4b96f2": {
          "model_module": "@jupyter-widgets/controls",
          "model_module_version": "1.5.0",
          "model_name": "HTMLModel",
          "state": {
            "_dom_classes": [],
            "_model_module": "@jupyter-widgets/controls",
            "_model_module_version": "1.5.0",
            "_model_name": "HTMLModel",
            "_view_count": null,
            "_view_module": "@jupyter-widgets/controls",
            "_view_module_version": "1.5.0",
            "_view_name": "HTMLView",
            "description": "",
            "description_tooltip": null,
            "layout": "IPY_MODEL_1ad13ad51be34d6d98b26035952ef6b0",
            "placeholder": "​",
            "style": "IPY_MODEL_0dabff0f81cd4a2dba077bd8794f730c",
            "value": " 15/15 [00:00&lt;00:00, 319.65 examples/s]"
          }
        }
      }
    }
  },
  "nbformat": 4,
  "nbformat_minor": 5
}
