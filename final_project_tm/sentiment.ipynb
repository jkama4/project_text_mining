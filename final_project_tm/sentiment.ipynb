{
  "cells": [
    {
      "cell_type": "markdown",
      "id": "ee82db11",
      "metadata": {
        "id": "ee82db11"
      },
      "source": [
        "# Sentiment Analysis"
      ]
    },
    {
      "cell_type": "code",
      "execution_count": null,
      "id": "a58a77de",
      "metadata": {
        "id": "a58a77de"
      },
      "outputs": [],
      "source": [
        "import pandas as pd\n",
        "\n",
        "splits = {'train': 'train_df.csv', 'validation': 'val_df.csv', 'test': 'test_df.csv'}\n",
        "dataframes = []\n",
        "for split, filename in splits.items():\n",
        "    if filename != 'val_df.csv':\n",
        "      df = pd.read_csv(f'hf://datasets/Sp1786/multiclass-sentiment-analysis-dataset/{filename}')\n",
        "      df.drop(['id', 'label'], axis=1, inplace=True)\n",
        "      dataframes.append(df)\n",
        "    else:\n",
        "      test_df = pd.read_csv(f'hf://datasets/Sp1786/multiclass-sentiment-analysis-dataset/{filename}')\n",
        "      test_df.drop(['id', 'label'], axis=1, inplace=True)\n",
        "train_df = pd.concat(dataframes)\n",
        "train_df = train_df.dropna()"
      ]
    },
    {
      "cell_type": "code",
      "source": [
        "print(train_df.head())\n",
        "print(test_df.head())\n",
        "\n",
        "print(len(train_df))\n",
        "print(len(test_df))"
      ],
      "metadata": {
        "id": "Zw49r1HZOksT"
      },
      "id": "Zw49r1HZOksT",
      "execution_count": null,
      "outputs": []
    },
    {
      "cell_type": "markdown",
      "id": "e9af5349",
      "metadata": {
        "id": "e9af5349"
      },
      "source": [
        "## Train the Model"
      ]
    },
    {
      "cell_type": "code",
      "source": [
        "!pip install simpletransformers"
      ],
      "metadata": {
        "id": "g13M7TpGuc2c"
      },
      "id": "g13M7TpGuc2c",
      "execution_count": null,
      "outputs": []
    },
    {
      "cell_type": "code",
      "source": [
        "from simpletransformers.classification import ClassificationModel, ClassificationArgs\n",
        "\n",
        "model_args = ClassificationArgs()\n",
        "\n",
        "model_args.overwrite_output_dir=True\n",
        "model_args.evaluate_during_training=True\n",
        "model_args.no_save = True\n",
        "\n",
        "model_args.max_seq_length=256\n",
        "model_args.use_early_stopping=True\n",
        "model_args.early_stopping_delta=0.01\n",
        "model_args.early_stopping_metric='eval_loss'\n",
        "model_args.early_stopping_metric_minimize=True\n",
        "model_args.early_stopping_patience=2\n",
        "model_args.evaluate_during_training_steps=32\n",
        "model_args.reprocess_input_data=True\n",
        "model_args.manual_seed=4\n",
        "model_args.use_multiprocessing=True\n",
        "model_args.labels_list=[\"neutral\", \"positive\", \"negative\"]\n",
        "model_args.wandb_project=\"Sentiment-Analysis-Sweep\""
      ],
      "metadata": {
        "id": "pGZIsQdFrbfl"
      },
      "id": "pGZIsQdFrbfl",
      "execution_count": null,
      "outputs": []
    },
    {
      "cell_type": "code",
      "source": [
        "import wandb\n",
        "\n",
        "def train_model():\n",
        "  wandb.init()\n",
        "  model = ClassificationModel(\"roberta\", \"roberta-base\", num_labels=3, args=model_args, use_cuda=True, sweep_config=wandb.config)\n",
        "  model.train_model(train_df, eval_df=test_df)"
      ],
      "metadata": {
        "id": "19pd6-99tyLJ"
      },
      "id": "19pd6-99tyLJ",
      "execution_count": null,
      "outputs": []
    },
    {
      "cell_type": "code",
      "source": [
        "wandb.login()\n",
        "\n",
        "sweep_configuration = {\n",
        "\t\"method\": \"grid\",\n",
        "\t\"metric\": {\"goal\": \"minimize\", \"name\": \"eval_loss\"},\n",
        "\t\"parameters\": {\n",
        "\t\t\"train_epochs\": {\"values\": [8, 10, 12, 16]},\n",
        "\t\t\"train_batch_size\": {\"values\": [16, 32, 64]},\n",
        "\t\t\"learning_rate\": {\"values\": [1e-6, 5e-5, 1e-5, 5e-4]},\n",
        "\t}\n",
        "}\n",
        "sweep_id = input(\"Please enter an existing sweep id if you want to continue an existing sweep (leave blank for a new sweep): \")\n",
        "sweep_id = None if sweep_id == \"\" else sweep_id\n",
        "\n",
        "if sweep_id is None:\n",
        "\tsweep_id = wandb.sweep(sweep=sweep_configuration, project=\"Sentiment-Analysis-Sweep\")\n",
        "\n",
        "wandb.agent(sweep_id, function=train_model, project='Sentiment-Analysis-Sweep')"
      ],
      "metadata": {
        "id": "BIDyh5rCtl47"
      },
      "id": "BIDyh5rCtl47",
      "execution_count": null,
      "outputs": []
    },
    {
      "cell_type": "code",
      "source": [
        "best_model_args = ClassificationArgs()\n",
        "\n",
        "best_model_args.overwrite_output_dir=True\n",
        "best_model_args.evaluate_during_training=True\n",
        "best_model_args.no_save = True\n",
        "\n",
        "best_model_args.max_seq_length=256\n",
        "best_model_args.use_early_stopping=True\n",
        "best_model_args.early_stopping_delta=0.01\n",
        "best_model_args.early_stopping_metric='eval_loss'\n",
        "best_model_args.early_stopping_metric_minimize=True\n",
        "best_model_args.early_stopping_patience=2\n",
        "best_model_args.evaluate_during_training_steps=32\n",
        "best_model_args.reprocess_input_data=True\n",
        "best_model_args.manual_seed=25\n",
        "best_model_args.use_multiprocessing=True\n",
        "best_model_args.labels_list=[\"neutral\", \"positive\", \"negative\"]\n"
      ],
      "metadata": {
        "id": "x1SqKX2ESJvG"
      },
      "id": "x1SqKX2ESJvG",
      "execution_count": null,
      "outputs": []
    },
    {
      "cell_type": "code",
      "source": [
        "eval_df = pd.read_csv('./sentiment-topic-test.tsv', sep='\\t')\n",
        "eval_df = eval_df.dropna()\n",
        "eval_df.drop(['sentence_id', 'topic'], axis=1, inplace=True)\n",
        "eval_df.columns = ['text', 'sentiment']\n",
        "print(eval_df.head())\n",
        "\n",
        "best_model_args.num_train_epochs=16\n",
        "best_model_args.train_batch_size=64\n",
        "best_model_args.learning_rate=5e-5\n",
        "\n",
        "best_model = ClassificationModel(\"roberta\", \"roberta-base\", num_labels=3, args=best_model_args, use_cuda=True)"
      ],
      "metadata": {
        "id": "cMyBtW_4JJcK"
      },
      "id": "cMyBtW_4JJcK",
      "execution_count": null,
      "outputs": []
    },
    {
      "cell_type": "code",
      "source": [
        "best_model.train_model(pd.concat([train_df, test_df]), eval_df=eval_df)"
      ],
      "metadata": {
        "id": "lA8TAIr8QqzT"
      },
      "id": "lA8TAIr8QqzT",
      "execution_count": null,
      "outputs": []
    },
    {
      "cell_type": "code",
      "source": [
        "from sklearn.metrics import classification_report\n",
        "\n",
        "predict, probabilities = best_model.predict(eval_df['text'].tolist())\n",
        "eval_df['predicted'] = predict\n",
        "print(classification_report(eval_df['sentiment'], eval_df['predicted']))"
      ],
      "metadata": {
        "id": "3LdWqYMJMQjN"
      },
      "id": "3LdWqYMJMQjN",
      "execution_count": null,
      "outputs": []
    }
  ],
  "metadata": {
    "kernelspec": {
      "display_name": "Python 3",
      "name": "python3"
    },
    "language_info": {
      "codemirror_mode": {
        "name": "ipython",
        "version": 3
      },
      "file_extension": ".py",
      "mimetype": "text/x-python",
      "name": "python",
      "nbconvert_exporter": "python",
      "pygments_lexer": "ipython3",
      "version": "3.12.9"
    },
    "colab": {
      "provenance": [],
      "gpuType": "T4"
    },
    "accelerator": "GPU"
  },
  "nbformat": 4,
  "nbformat_minor": 5
}
