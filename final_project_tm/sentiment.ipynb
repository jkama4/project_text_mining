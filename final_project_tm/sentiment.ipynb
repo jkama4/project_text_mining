{
 "cells": [
  {
   "cell_type": "markdown",
   "id": "ee82db11",
   "metadata": {},
   "source": [
    "# Sentiment Analysis"
   ]
  },
  {
   "cell_type": "code",
   "execution_count": null,
   "id": "328b50e3",
   "metadata": {},
   "outputs": [],
   "source": [
    "import csv\n",
    "\n",
    "import pandas as pd\n",
    "\n",
    "import utils\n",
    "\n",
    "from datasets import load_dataset, Dataset"
   ]
  },
  {
   "cell_type": "markdown",
   "id": "066679fa",
   "metadata": {},
   "source": [
    "Link to dataset: http://huggingface.co/datasets/stanfordnlp/sst2/viewer/default/train?row=2&views%5B%5D=train"
   ]
  },
  {
   "cell_type": "code",
   "execution_count": 13,
   "id": "a58a77de",
   "metadata": {},
   "outputs": [],
   "source": [
    "sentiment_train_data_raw = load_dataset(\"stanfordnlp/sst2\", trust_remote_code=True, split=\"train\")"
   ]
  },
  {
   "cell_type": "code",
   "execution_count": 23,
   "id": "0530faab",
   "metadata": {},
   "outputs": [],
   "source": [
    "sentiment_train_data_file = r\"C:\\Users\\jayde\\OneDrive\\School\\Text Mining for AI\\final_project_tm\\data\\train_data\\sentiment-train.tsv\""
   ]
  },
  {
   "cell_type": "code",
   "execution_count": 26,
   "id": "cb929223",
   "metadata": {},
   "outputs": [],
   "source": [
    "def sentiment_data_to_file(raw_data: Dataset = sentiment_train_data_raw, file_name: str = sentiment_train_data_file):\n",
    "    with open(file_name, \"w\", newline=\"\", encoding=\"utf-8\") as f:\n",
    "        writer: csv.writer = csv.writer(f, delimiter=\"\\t\")\n",
    "        writer.writerow([\"sentence_id\", \"sentence\", \"sentiment\"])\n",
    "        \n",
    "        for idx, elem in enumerate(raw_data):\n",
    "            sentence = elem[\"sentence\"]\n",
    "            label = \"positive\" if elem[\"label\"] == 1 else \"negative\"\n",
    "            \n",
    "            writer.writerow([idx, sentence, label])\n",
    "        \n",
    "    f.close()        "
   ]
  },
  {
   "cell_type": "code",
   "execution_count": null,
   "id": "c17a32c1",
   "metadata": {},
   "outputs": [],
   "source": [
    "utils.sentiment_data_to_file(raw_data=sentiment_train_data_raw, file_name=sentiment_train_data_file)"
   ]
  },
  {
   "cell_type": "markdown",
   "id": "5b42efdd",
   "metadata": {},
   "source": [
    "Call the following to convert the data to a CSV file:\n",
    "\n",
    "```python\n",
    "utils.sentiment_data_to_file(raw_data, file_name)\n",
    "```"
   ]
  },
  {
   "cell_type": "code",
   "execution_count": 28,
   "id": "11e26800",
   "metadata": {},
   "outputs": [
    {
     "data": {
      "text/html": [
       "<div>\n",
       "<style scoped>\n",
       "    .dataframe tbody tr th:only-of-type {\n",
       "        vertical-align: middle;\n",
       "    }\n",
       "\n",
       "    .dataframe tbody tr th {\n",
       "        vertical-align: top;\n",
       "    }\n",
       "\n",
       "    .dataframe thead th {\n",
       "        text-align: right;\n",
       "    }\n",
       "</style>\n",
       "<table border=\"1\" class=\"dataframe\">\n",
       "  <thead>\n",
       "    <tr style=\"text-align: right;\">\n",
       "      <th></th>\n",
       "      <th>sentence_id</th>\n",
       "      <th>sentence</th>\n",
       "      <th>sentiment</th>\n",
       "    </tr>\n",
       "  </thead>\n",
       "  <tbody>\n",
       "    <tr>\n",
       "      <th>0</th>\n",
       "      <td>0</td>\n",
       "      <td>hide new secretions from the parental units</td>\n",
       "      <td>negative</td>\n",
       "    </tr>\n",
       "    <tr>\n",
       "      <th>1</th>\n",
       "      <td>1</td>\n",
       "      <td>contains no wit , only labored gags</td>\n",
       "      <td>negative</td>\n",
       "    </tr>\n",
       "    <tr>\n",
       "      <th>2</th>\n",
       "      <td>2</td>\n",
       "      <td>that loves its characters and communicates som...</td>\n",
       "      <td>positive</td>\n",
       "    </tr>\n",
       "    <tr>\n",
       "      <th>3</th>\n",
       "      <td>3</td>\n",
       "      <td>remains utterly satisfied to remain the same t...</td>\n",
       "      <td>negative</td>\n",
       "    </tr>\n",
       "    <tr>\n",
       "      <th>4</th>\n",
       "      <td>4</td>\n",
       "      <td>on the worst revenge-of-the-nerds clichés the ...</td>\n",
       "      <td>negative</td>\n",
       "    </tr>\n",
       "  </tbody>\n",
       "</table>\n",
       "</div>"
      ],
      "text/plain": [
       "   sentence_id                                           sentence sentiment\n",
       "0            0       hide new secretions from the parental units   negative\n",
       "1            1               contains no wit , only labored gags   negative\n",
       "2            2  that loves its characters and communicates som...  positive\n",
       "3            3  remains utterly satisfied to remain the same t...  negative\n",
       "4            4  on the worst revenge-of-the-nerds clichés the ...  negative"
      ]
     },
     "execution_count": 28,
     "metadata": {},
     "output_type": "execute_result"
    }
   ],
   "source": [
    "df: pd.DataFrame = pd.read_csv(sentiment_train_data_file, sep=\"\\t\")\n",
    "df.head()"
   ]
  },
  {
   "cell_type": "markdown",
   "id": "e9af5349",
   "metadata": {},
   "source": [
    "## Train the Model"
   ]
  },
  {
   "cell_type": "code",
   "execution_count": 29,
   "id": "47aa6625",
   "metadata": {},
   "outputs": [],
   "source": [
    "# Next part ..."
   ]
  }
 ],
 "metadata": {
  "kernelspec": {
   "display_name": "text_mining_env_fixed",
   "language": "python",
   "name": "python3"
  },
  "language_info": {
   "codemirror_mode": {
    "name": "ipython",
    "version": 3
   },
   "file_extension": ".py",
   "mimetype": "text/x-python",
   "name": "python",
   "nbconvert_exporter": "python",
   "pygments_lexer": "ipython3",
   "version": "3.12.9"
  }
 },
 "nbformat": 4,
 "nbformat_minor": 5
}
