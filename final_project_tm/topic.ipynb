{
 "cells": [
  {
   "cell_type": "markdown",
   "id": "6de1ca04",
   "metadata": {},
   "source": [
    "# Topic Modelling and Text Categorisation"
   ]
  },
  {
   "cell_type": "code",
   "execution_count": null,
   "id": "0bff10b6",
   "metadata": {},
   "outputs": [],
   "source": [
    "import csv\n",
    "\n",
    "import pandas as pd\n",
    "\n",
    "import utils\n",
    "\n",
    "from datasets import load_dataset, Dataset"
   ]
  },
  {
   "cell_type": "code",
   "execution_count": 30,
   "id": "77d5c7dc",
   "metadata": {},
   "outputs": [],
   "source": [
    "dataset = load_dataset(\"AmazonScience/mintaka\", \"all\", split=\"train\")"
   ]
  },
  {
   "cell_type": "code",
   "execution_count": 33,
   "id": "721a808a",
   "metadata": {},
   "outputs": [
    {
     "name": "stdout",
     "output_type": "stream",
     "text": [
      "{'id': 'a9011ddf', 'lang': 'en', 'question': 'What is the seventh tallest mountain in North America?', 'answerText': 'Mount Lucania', 'category': 'geography', 'complexityType': 'ordinal', 'questionEntity': [{'name': 'Q49', 'entityType': 'entity', 'label': 'North America', 'mention': 'North America', 'span': [40, 53]}, {'name': '7', 'entityType': 'ordinal', 'label': '', 'mention': 'seventh', 'span': [12, 19]}], 'answerEntity': [{'name': 'Q1153188', 'label': 'Mount Lucania'}]}\n",
      "{'id': '2723bb1b', 'lang': 'en', 'question': 'Which actor was the star of Titanic and was born in Los Angeles, California?', 'answerText': 'Leonardo DiCaprio', 'category': 'movies', 'complexityType': 'intersection', 'questionEntity': [{'name': 'Q44578', 'entityType': 'entity', 'label': 'Titanic', 'mention': 'Titanic', 'span': [28, 35]}, {'name': 'Q65', 'entityType': 'entity', 'label': 'Los Angeles', 'mention': 'Los Angeles, California', 'span': [52, 75]}], 'answerEntity': [{'name': 'Q38111', 'label': 'Leonardo DiCaprio'}]}\n",
      "{'id': '88349c89', 'lang': 'en', 'question': 'Which actor starred in Vanilla Sky and was married to Katie Holmes?', 'answerText': 'Tom Cruise', 'category': 'movies', 'complexityType': 'intersection', 'questionEntity': [{'name': 'Q174346', 'entityType': 'entity', 'label': 'Katie Holmes', 'mention': 'Katie Holmes', 'span': [54, 66]}, {'name': 'Q110278', 'entityType': 'entity', 'label': 'Vanilla Sky', 'mention': 'Vanilla Sky', 'span': [23, 34]}], 'answerEntity': [{'name': 'Q37079', 'label': 'Tom Cruise'}]}\n",
      "{'id': 'bff78c91', 'lang': 'en', 'question': 'What year was the first book of the A Song of Ice and Fire series published?', 'answerText': '1996', 'category': 'books', 'complexityType': 'generic', 'questionEntity': [{'name': 'Q45875', 'entityType': 'entity', 'label': 'A Song of Ice and Fire', 'mention': 'A Song of Ice and Fire', 'span': [36, 58]}, {'name': '1', 'entityType': 'ordinal', 'label': '', 'mention': 'first', 'span': [18, 23]}], 'answerEntity': []}\n",
      "{'id': '982450cf', 'lang': 'en', 'question': 'Who is the youngest current US governor?', 'answerText': 'Ron DeSantis', 'category': 'politics', 'complexityType': 'superlative', 'questionEntity': [{'name': 'Q889821', 'entityType': 'entity', 'label': 'governor', 'mention': 'US governor', 'span': [28, 39]}], 'answerEntity': [{'name': 'Q3105215', 'label': 'Ron DeSantis'}]}\n",
      "{'id': 'fe541d01', 'lang': 'en', 'question': 'Which US president has had the most votes?', 'answerText': 'Joe Biden', 'category': 'history', 'complexityType': 'superlative', 'questionEntity': [{'name': 'Q30', 'entityType': 'entity', 'label': 'United States of America', 'mention': 'US', 'span': [6, 8]}], 'answerEntity': [{'name': 'Q6279', 'label': 'Joe Biden'}]}\n",
      "{'id': '217a0a84', 'lang': 'en', 'question': 'How long did it take to build the Lincoln Memorial?', 'answerText': '8 years', 'category': 'geography', 'complexityType': 'generic', 'questionEntity': [{'name': 'Q213559', 'entityType': 'entity', 'label': 'Lincoln Memorial', 'mention': 'Lincoln Memorial', 'span': [34, 50]}], 'answerEntity': []}\n",
      "{'id': 'b218d184', 'lang': 'en', 'question': 'Has Bernie Sanders ever been president of the United States?', 'answerText': 'No', 'category': 'politics', 'complexityType': 'yesno', 'questionEntity': [{'name': 'Q359442', 'entityType': 'entity', 'label': 'Bernie Sanders', 'mention': 'Bernie Sanders', 'span': [4, 18]}, {'name': 'Q30', 'entityType': 'entity', 'label': 'United States of America', 'mention': 'United States', 'span': [46, 59]}], 'answerEntity': []}\n",
      "{'id': 'f477742c', 'lang': 'en', 'question': \"Which actor was Stephenie Meyer's first choice to play Edward Cullen in the movie Twilight?\", 'answerText': 'Henry Cavill', 'category': 'movies', 'complexityType': 'generic', 'questionEntity': [{'name': 'Q160219', 'entityType': 'entity', 'label': 'Stephenie Meyer', 'mention': \"Stephenie Meyer's\", 'span': [16, 33]}, {'name': 'Q160071', 'entityType': 'entity', 'label': 'Twilight', 'mention': 'Twilight', 'span': [82, 90]}, {'name': 'Q191527', 'entityType': 'entity', 'label': 'Edward Cullen', 'mention': 'Edward Cullen', 'span': [55, 68]}, {'name': '1', 'entityType': 'ordinal', 'label': '', 'mention': 'first', 'span': [34, 39]}], 'answerEntity': [{'name': 'Q295498', 'label': 'Henry Cavill'}]}\n",
      "{'id': '9e087ee3', 'lang': 'en', 'question': 'How old was Taylor Swift when she won her first Grammy?', 'answerText': '20', 'category': 'music', 'complexityType': 'ordinal', 'questionEntity': [{'name': 'Q26876', 'entityType': 'entity', 'label': 'Taylor Swift', 'mention': 'Taylor Swift', 'span': [12, 24]}, {'name': 'Q41254', 'entityType': 'entity', 'label': 'Grammy Award', 'mention': 'Grammy', 'span': [48, 54]}, {'name': '1', 'entityType': 'ordinal', 'label': '', 'mention': 'first', 'span': [42, 47]}], 'answerEntity': []}\n",
      "{'id': '2e3cf745', 'lang': 'en', 'question': 'Which river is longer than the Mississippi River?', 'answerText': 'The Nile', 'category': 'geography', 'complexityType': 'comparative', 'questionEntity': [{'name': 'Q1497', 'entityType': 'entity', 'label': 'Mississippi River', 'mention': 'Mississippi River', 'span': [31, 48]}], 'answerEntity': [{'name': 'Q3392', 'label': 'Nile'}]}\n",
      "{'id': 'e61cbf9f', 'lang': 'en', 'question': 'How old is the singer of The Dance?', 'answerText': '59', 'category': 'music', 'complexityType': 'multihop', 'questionEntity': [{'name': 'Q7728806', 'entityType': 'entity', 'label': 'The Dance', 'mention': 'The Dance', 'span': [25, 34]}], 'answerEntity': []}\n",
      "{'id': 'faa4e84c', 'lang': 'en', 'question': 'What is the latest US state to be admitted to the union that is not Hawaii?', 'answerText': 'Alaska', 'category': 'history', 'complexityType': 'difference', 'questionEntity': [{'name': 'Q30', 'entityType': 'entity', 'label': 'United States of America', 'mention': 'US', 'span': [19, 21]}, {'name': 'Q782', 'entityType': 'entity', 'label': 'Hawaii', 'mention': 'Hawaii', 'span': [68, 74]}], 'answerEntity': [{'name': 'Q797', 'label': 'Alaska'}]}\n",
      "{'id': '650e81a3', 'lang': 'en', 'question': 'What is the longest lake in the world?', 'answerText': 'Lake Tanganyika', 'category': 'geography', 'complexityType': 'superlative', 'questionEntity': [{'name': 'Q23397', 'entityType': 'entity', 'label': 'lake', 'mention': 'lake', 'span': [20, 24]}], 'answerEntity': [{'name': 'Q5511', 'label': 'Lake Tanganyika'}]}\n",
      "{'id': '73d2a271', 'lang': 'en', 'question': 'How many teams has Matthew Stafford played for?', 'answerText': '2', 'category': 'sports', 'complexityType': 'count', 'questionEntity': [{'name': 'Q889130', 'entityType': 'entity', 'label': 'Matthew Stafford', 'mention': 'Matthew Stafford', 'span': [19, 35]}], 'answerEntity': [{'name': 'Q271880', 'label': 'Detroit Lions'}, {'name': 'Q337377', 'label': 'Los Angeles Rams'}]}\n",
      "{'id': '53fe42a8', 'lang': 'en', 'question': 'Where was the singer of Genie in a Bottle born?', 'answerText': 'Staten Island, New York City', 'category': 'music', 'complexityType': 'multihop', 'questionEntity': [{'name': 'Q326246', 'entityType': 'entity', 'label': 'Genie in a Bottle', 'mention': 'Genie in a Bottle', 'span': [24, 41]}], 'answerEntity': [{'name': 'Q18432', 'label': 'Staten Island'}]}\n",
      "{'id': '0aeebf1e', 'lang': 'en', 'question': 'When did Metallica put out their fourth album?', 'answerText': '1988', 'category': 'music', 'complexityType': 'ordinal', 'questionEntity': [{'name': 'Q15920', 'entityType': 'entity', 'label': 'Metallica', 'mention': 'Metallica', 'span': [9, 18]}, {'name': '4', 'entityType': 'ordinal', 'label': '', 'mention': 'fourth', 'span': [33, 39]}], 'answerEntity': []}\n",
      "{'id': '4694fd01', 'lang': 'en', 'question': 'Which series is older, Metroid or Super Mario Bros?', 'answerText': 'Super Mario Bros', 'category': 'videogames', 'complexityType': 'comparative', 'questionEntity': [{'name': 'Q12397', 'entityType': 'entity', 'label': 'Metroid', 'mention': 'Metroid', 'span': [23, 30]}, {'name': 'Q23902998', 'entityType': 'entity', 'label': 'Super Mario Bros.', 'mention': 'Super Mario Bros', 'span': [34, 50]}], 'answerEntity': [{'name': 'Q23902998', 'label': 'Super Mario Bros.'}]}\n",
      "{'id': '272d3f43', 'lang': 'en', 'question': 'In which Super Mario Land game do you not play as Mario?', 'answerText': 'Wario Land: Super Mario Land 3', 'category': 'videogames', 'complexityType': 'difference', 'questionEntity': [{'name': 'Q647249', 'entityType': 'entity', 'label': 'Super Mario Land', 'mention': 'Super Mario Land', 'span': [9, 25]}, {'name': 'Q12379', 'entityType': 'entity', 'label': 'Mario', 'mention': 'Mario', 'span': [50, 55]}], 'answerEntity': [{'name': 'Q1634866', 'label': 'Wario Land: Super Mario Land 3'}]}\n",
      "{'id': 'a146c476', 'lang': 'en', 'question': 'Is Texas the largest state in US?', 'answerText': 'No', 'category': 'geography', 'complexityType': 'yesno', 'questionEntity': [{'name': 'Q30', 'entityType': 'entity', 'label': 'United States of America', 'mention': 'US', 'span': [30, 32]}, {'name': 'Q1439', 'entityType': 'entity', 'label': 'Texas', 'mention': 'Texas', 'span': [3, 8]}], 'answerEntity': []}\n",
      "{'id': '43aae58f', 'lang': 'en', 'question': 'How many times have the Los Angeles Dodgers lost the World Series?', 'answerText': '14', 'category': 'sports', 'complexityType': 'difference', 'questionEntity': [{'name': 'Q334634', 'entityType': 'entity', 'label': 'Los Angeles Dodgers', 'mention': 'Los Angeles Dodgers', 'span': [24, 43]}, {'name': 'Q265538', 'entityType': 'entity', 'label': 'World Series', 'mention': 'World Series', 'span': [53, 65]}], 'answerEntity': []}\n",
      "{'id': 'cf871296', 'lang': 'en', 'question': 'Who was the president of Argentina from 1989 to 1999?', 'answerText': 'Carlos Menem', 'category': 'politics', 'complexityType': 'generic', 'questionEntity': [{'name': 'Q414', 'entityType': 'entity', 'label': 'Argentina', 'mention': 'Argentina', 'span': [25, 34]}, {'name': '1999', 'entityType': 'date', 'label': '', 'mention': '1999', 'span': [48, 52]}, {'name': '1989', 'entityType': 'date', 'label': '', 'mention': '1989', 'span': [40, 44]}], 'answerEntity': [{'name': 'Q185107', 'label': 'Carlos Menem'}]}\n",
      "{'id': '33ed28dd', 'lang': 'en', 'question': \"Who was a member of the 2004 U.S. Olympic men's swim team and born in Baltimore, Maryland?\", 'answerText': 'Michael Phelps', 'category': 'sports', 'complexityType': 'intersection', 'questionEntity': [{'name': 'Q5092', 'entityType': 'entity', 'label': 'Baltimore', 'mention': 'Baltimore, Maryland', 'span': [70, 89]}, {'name': 'Q212434', 'entityType': 'entity', 'label': 'Olympic sport', 'mention': 'Olympic', 'span': [34, 41]}, {'name': 'Q8441', 'entityType': 'entity', 'label': 'man', 'mention': \"men's\", 'span': [42, 47]}, {'name': 'Q31920', 'entityType': 'entity', 'label': 'swimming', 'mention': 'swim', 'span': [48, 52]}, {'name': 'Q30', 'entityType': 'entity', 'label': 'United States of America', 'mention': 'U.S.', 'span': [29, 33]}, {'name': '2004', 'entityType': 'date', 'label': '', 'mention': '2004', 'span': [24, 28]}], 'answerEntity': [{'name': 'Q39562', 'label': 'Michael Phelps'}]}\n",
      "{'id': 'cb790bce', 'lang': 'en', 'question': 'Have the Los Angeles Rams won a Super Bowl ring since moving back to Los Angeles?', 'answerText': 'No', 'category': 'sports', 'complexityType': 'yesno', 'questionEntity': [{'name': 'Q337377', 'entityType': 'entity', 'label': 'Los Angeles Rams', 'mention': 'Los Angeles Rams', 'span': [9, 25]}, {'name': 'Q65', 'entityType': 'entity', 'label': 'Los Angeles', 'mention': 'Los Angeles', 'span': [69, 80]}, {'name': 'Q32096', 'entityType': 'entity', 'label': 'Super Bowl', 'mention': 'Super Bowl', 'span': [32, 42]}], 'answerEntity': []}\n",
      "{'id': '2e4cde5f', 'lang': 'en', 'question': 'What governors of Ohio since 2000 have not been Republican?', 'answerText': 'Ted Strickland', 'category': 'politics', 'complexityType': 'difference', 'questionEntity': [{'name': 'Q29468', 'entityType': 'entity', 'label': 'Republican Party', 'mention': 'Republican', 'span': [48, 58]}, {'name': 'Q1397', 'entityType': 'entity', 'label': 'Ohio', 'mention': 'Ohio', 'span': [18, 22]}, {'name': '2000', 'entityType': 'date', 'label': '', 'mention': '2000', 'span': [29, 33]}], 'answerEntity': [{'name': 'Q465295', 'label': 'Ted Strickland'}]}\n",
      "{'id': 'a848c7c6', 'lang': 'en', 'question': 'Has there ever been a Christian U.S. senator?', 'answerText': 'Yes', 'category': 'politics', 'complexityType': 'yesno', 'questionEntity': [{'name': 'Q106039', 'entityType': 'entity', 'label': 'Christian', 'mention': 'Christian', 'span': [22, 31]}, {'name': 'Q4416090', 'entityType': 'entity', 'label': 'United States senator', 'mention': 'U.S. senator', 'span': [32, 44]}], 'answerEntity': []}\n",
      "{'id': '1e975ded', 'lang': 'en', 'question': 'Is Venus Williams older than Serena Williams?', 'answerText': 'Yes', 'category': 'sports', 'complexityType': 'comparative', 'questionEntity': [{'name': 'Q11459', 'entityType': 'entity', 'label': 'Serena Williams', 'mention': 'Serena Williams', 'span': [29, 44]}, {'name': 'Q11578', 'entityType': 'entity', 'label': 'Venus Williams', 'mention': 'Venus Williams', 'span': [3, 17]}], 'answerEntity': []}\n",
      "{'id': '3e7b64af', 'lang': 'en', 'question': 'Which player has won the most World Series rings?', 'answerText': 'Yogi Berra', 'category': 'sports', 'complexityType': 'generic', 'questionEntity': [{'name': 'Q265538', 'entityType': 'entity', 'label': 'World Series', 'mention': 'World Series', 'span': [30, 42]}], 'answerEntity': [{'name': 'Q367566', 'label': 'Yogi Berra'}]}\n",
      "{'id': '40db23ca', 'lang': 'en', 'question': 'Did The Beatles release Rubber Soul before Revolver?', 'answerText': 'No', 'category': 'music', 'complexityType': 'comparative', 'questionEntity': [{'name': 'Q1299', 'entityType': 'entity', 'label': 'The Beatles', 'mention': 'The Beatles', 'span': [4, 15]}, {'name': 'Q190640', 'entityType': 'entity', 'label': 'Rubber Soul', 'mention': 'Rubber Soul', 'span': [24, 35]}, {'name': 'Q185121', 'entityType': 'entity', 'label': 'Revolver', 'mention': 'Revolver', 'span': [43, 51]}], 'answerEntity': []}\n",
      "{'id': '47862d75', 'lang': 'en', 'question': 'How old is Aziz Ansari?', 'answerText': '38', 'category': 'movies', 'complexityType': 'generic', 'questionEntity': [{'name': 'Q369482', 'entityType': 'entity', 'label': 'Aziz Ansari', 'mention': 'Aziz Ansari', 'span': [11, 22]}], 'answerEntity': []}\n",
      "{'id': '9508d042', 'lang': 'en', 'question': 'How many Pulitzer Prizes has Colson Whitehead won?', 'answerText': '2', 'category': 'books', 'complexityType': 'count', 'questionEntity': [{'name': 'Q509662', 'entityType': 'entity', 'label': 'Colson Whitehead', 'mention': 'Colson Whitehead', 'span': [29, 45]}, {'name': 'Q46525', 'entityType': 'entity', 'label': 'Pulitzer Prize', 'mention': 'Pulitzer Prizes', 'span': [9, 24]}], 'answerEntity': [{'name': 'Q27957817', 'label': 'The Underground Railroad'}, {'name': 'Q85808003', 'label': 'The Nickel Boys'}]}\n",
      "{'id': '80137241', 'lang': 'en', 'question': 'Who has been in more movies, Kevin Hart or Dwayne Johnson?', 'answerText': 'Dwayne Johnson', 'category': 'movies', 'complexityType': 'comparative', 'questionEntity': [{'name': 'Q10738', 'entityType': 'entity', 'label': 'Dwayne Johnson', 'mention': 'Dwayne Johnson', 'span': [43, 57]}, {'name': 'Q618352', 'entityType': 'entity', 'label': 'Kevin Hart', 'mention': 'Kevin Hart', 'span': [29, 39]}], 'answerEntity': [{'name': 'Q10738', 'label': 'Dwayne Johnson'}]}\n",
      "{'id': '93caf40a', 'lang': 'en', 'question': 'Did the movie Moana come out before 2015?', 'answerText': 'No', 'category': 'movies', 'complexityType': 'comparative', 'questionEntity': [{'name': 'Q18647981', 'entityType': 'entity', 'label': 'Moana', 'mention': 'Moana', 'span': [14, 19]}, {'name': '2015', 'entityType': 'date', 'label': '', 'mention': '2015', 'span': [36, 40]}], 'answerEntity': []}\n",
      "{'id': '2182d4d7', 'lang': 'en', 'question': 'Which movie made more money, Joker or Suicide Squad (2016)?', 'answerText': 'Joker', 'category': 'movies', 'complexityType': 'comparative', 'questionEntity': [{'name': 'Q42759035', 'entityType': 'entity', 'label': 'Joker', 'mention': 'Joker', 'span': [29, 34]}, {'name': 'Q18604504', 'entityType': 'entity', 'label': 'Suicide Squad', 'mention': 'Suicide Squad', 'span': [38, 51]}, {'name': '2016', 'entityType': 'date', 'label': '', 'mention': '2016', 'span': [53, 57]}], 'answerEntity': [{'name': 'Q42759035', 'label': 'Joker'}]}\n",
      "{'id': '21f3dbb1', 'lang': 'en', 'question': 'Which movie was released first, Avengers: Endgame or Joker?', 'answerText': 'Avengers Endgame', 'category': 'movies', 'complexityType': 'comparative', 'questionEntity': [{'name': 'Q42759035', 'entityType': 'entity', 'label': 'Joker', 'mention': 'Joker', 'span': [53, 58]}, {'name': 'Q23781155', 'entityType': 'entity', 'label': 'Avengers: Endgame', 'mention': 'Avengers: Endgame', 'span': [32, 49]}, {'name': '1', 'entityType': 'ordinal', 'label': '', 'mention': 'first', 'span': [25, 30]}], 'answerEntity': [{'name': 'Q23781155', 'label': 'Avengers: Endgame'}]}\n",
      "{'id': 'ae9f3be5', 'lang': 'en', 'question': 'Was Friday the 13th released the same year as Halloween?', 'answerText': 'No', 'category': 'movies', 'complexityType': 'comparative', 'questionEntity': [{'name': 'Q1243029', 'entityType': 'entity', 'label': 'Friday the 13th', 'mention': 'Friday the 13th', 'span': [4, 19]}, {'name': 'Q221103', 'entityType': 'entity', 'label': 'Halloween', 'mention': 'Halloween', 'span': [46, 55]}], 'answerEntity': []}\n",
      "{'id': '04d2565d', 'lang': 'en', 'question': 'Did Scream come out before 2000?', 'answerText': 'Yes', 'category': 'movies', 'complexityType': 'comparative', 'questionEntity': [{'name': 'Q27411', 'entityType': 'entity', 'label': 'Scream', 'mention': 'Scream', 'span': [4, 10]}, {'name': '2000', 'entityType': 'date', 'label': '', 'mention': '2000', 'span': [27, 31]}], 'answerEntity': []}\n",
      "{'id': '0804508e', 'lang': 'en', 'question': 'Who is older, Drew Barrymore or Neve Campbell?', 'answerText': 'Neve Campbell', 'category': 'movies', 'complexityType': 'comparative', 'questionEntity': [{'name': 'Q676094', 'entityType': 'entity', 'label': 'Drew Barrymore', 'mention': 'Drew Barrymore', 'span': [14, 28]}, {'name': 'Q193482', 'entityType': 'entity', 'label': 'Neve Campbell', 'mention': 'Neve Campbell', 'span': [32, 45]}], 'answerEntity': [{'name': 'Q193482', 'label': 'Neve Campbell'}]}\n",
      "{'id': 'def43cde', 'lang': 'en', 'question': 'Was The Ring released before 2005?', 'answerText': 'Yes', 'category': 'movies', 'complexityType': 'comparative', 'questionEntity': [{'name': 'Q212804', 'entityType': 'entity', 'label': 'The Ring', 'mention': 'The Ring', 'span': [4, 12]}, {'name': '2005', 'entityType': 'date', 'label': '', 'mention': '2005', 'span': [29, 33]}], 'answerEntity': []}\n",
      "{'id': '754ebe9d', 'lang': 'en', 'question': 'Who is older, Jodie Foster or Julia Roberts?', 'answerText': 'Jodie Foster', 'category': 'movies', 'complexityType': 'comparative', 'questionEntity': [{'name': 'Q40523', 'entityType': 'entity', 'label': 'Julia Roberts', 'mention': 'Julia Roberts', 'span': [30, 43]}, {'name': 'Q41351', 'entityType': 'entity', 'label': 'Jodie Foster', 'mention': 'Jodie Foster', 'span': [14, 26]}], 'answerEntity': [{'name': 'Q41351', 'label': 'Jodie Foster'}]}\n",
      "{'id': '6323ffe8', 'lang': 'en', 'question': 'Who is taller, Angelina Jolie or Brad Pitt?', 'answerText': 'Brad Pitt', 'category': 'movies', 'complexityType': 'comparative', 'questionEntity': [{'name': 'Q13909', 'entityType': 'entity', 'label': 'Angelina Jolie', 'mention': 'Angelina Jolie', 'span': [15, 29]}, {'name': 'Q35332', 'entityType': 'entity', 'label': 'Brad Pitt', 'mention': 'Brad Pitt', 'span': [33, 42]}], 'answerEntity': [{'name': 'Q35332', 'label': 'Brad Pitt'}]}\n",
      "{'id': 'cc7f4931', 'lang': 'en', 'question': 'Is Jake Gyllenhaal older than Maggie Gyllenhaal?', 'answerText': 'No', 'category': 'movies', 'complexityType': 'comparative', 'questionEntity': [{'name': 'Q133313', 'entityType': 'entity', 'label': 'Jake Gyllenhaal', 'mention': 'Jake Gyllenhaal', 'span': [3, 18]}, {'name': 'Q202381', 'entityType': 'entity', 'label': 'Maggie Gyllenhaal', 'mention': 'Maggie Gyllenhaal', 'span': [30, 47]}], 'answerEntity': []}\n",
      "{'id': '9c87f70e', 'lang': 'en', 'question': 'Was Parasite released after 2015?', 'answerText': 'Yes', 'category': 'movies', 'complexityType': 'comparative', 'questionEntity': [{'name': 'Q61448040', 'entityType': 'entity', 'label': 'Parasite', 'mention': 'Parasite', 'span': [4, 12]}, {'name': '2015', 'entityType': 'date', 'label': '', 'mention': '2015', 'span': [28, 32]}], 'answerEntity': []}\n",
      "{'id': 'f8f84576', 'lang': 'en', 'question': 'Did Citizen Kane come out before 1950?', 'answerText': 'Yes', 'category': 'movies', 'complexityType': 'comparative', 'questionEntity': [{'name': 'Q24815', 'entityType': 'entity', 'label': 'Citizen Kane', 'mention': 'Citizen Kane', 'span': [4, 16]}, {'name': '1950', 'entityType': 'date', 'label': '', 'mention': '1950', 'span': [33, 37]}], 'answerEntity': []}\n",
      "{'id': 'd5706334', 'lang': 'en', 'question': 'Is Tom Cruise younger than Denzel Washington?', 'answerText': 'Yes', 'category': 'movies', 'complexityType': 'comparative', 'questionEntity': [{'name': 'Q42101', 'entityType': 'entity', 'label': 'Denzel Washington', 'mention': 'Denzel Washington', 'span': [27, 44]}, {'name': 'Q37079', 'entityType': 'entity', 'label': 'Tom Cruise', 'mention': 'Tom Cruise', 'span': [3, 13]}], 'answerEntity': []}\n",
      "{'id': '821bbf84', 'lang': 'en', 'question': \"Was Avatar's budget greater than $200 million?\", 'answerText': 'Yes', 'category': 'movies', 'complexityType': 'comparative', 'questionEntity': [{'name': 'Q24871', 'entityType': 'entity', 'label': 'Avatar', 'mention': \"Avatar's\", 'span': [4, 12]}, {'name': '200000000', 'entityType': 'money', 'label': '', 'mention': '$200 million', 'span': [33, 45]}], 'answerEntity': []}\n",
      "{'id': '28cf6720', 'lang': 'en', 'question': 'Which movie had a higher lifetime gross, Titanic or Avatar?', 'answerText': 'Avatar', 'category': 'movies', 'complexityType': 'comparative', 'questionEntity': [{'name': 'Q44578', 'entityType': 'entity', 'label': 'Titanic', 'mention': 'Titanic', 'span': [41, 48]}, {'name': 'Q24871', 'entityType': 'entity', 'label': 'Avatar', 'mention': 'Avatar', 'span': [52, 58]}], 'answerEntity': [{'name': 'Q24871', 'label': 'Avatar'}]}\n",
      "{'id': '47feccd4', 'lang': 'en', 'question': 'Which movie had a higher lifetime gross, Jurassic World or The Lion King?', 'answerText': 'Jurassic World', 'category': 'movies', 'complexityType': 'comparative', 'questionEntity': [{'name': 'Q36479', 'entityType': 'entity', 'label': 'The Lion King', 'mention': 'The Lion King', 'span': [59, 72]}, {'name': 'Q3512046', 'entityType': 'entity', 'label': 'Jurassic World', 'mention': 'Jurassic World', 'span': [41, 55]}], 'answerEntity': [{'name': 'Q3512046', 'label': 'Jurassic World'}]}\n",
      "{'id': '3d823e8a', 'lang': 'en', 'question': \"Which Netflix series has been watched more, Tiger King or The Queen's Gambit?\", 'answerText': 'Tiger King', 'category': 'movies', 'complexityType': 'comparative', 'questionEntity': [{'name': 'Q88306935', 'entityType': 'entity', 'label': 'Tiger King: Murder, Mayhem and Madness', 'mention': 'Tiger King', 'span': [44, 54]}, {'name': 'Q85808226', 'entityType': 'entity', 'label': \"The Queen's Gambit\", 'mention': \"The Queen's Gambit\", 'span': [58, 76]}, {'name': 'Q907311', 'entityType': 'entity', 'label': 'Netflix', 'mention': 'Netflix', 'span': [6, 13]}], 'answerEntity': [{'name': 'Q88306935', 'label': 'Tiger King: Murder, Mayhem and Madness'}]}\n",
      "{'id': '932c66a8', 'lang': 'en', 'question': 'Which Netflix series has been watched more, Bridgerton or Tiger King?', 'answerText': 'Bridgerton', 'category': 'movies', 'complexityType': 'comparative', 'questionEntity': [{'name': 'Q88306935', 'entityType': 'entity', 'label': 'Tiger King: Murder, Mayhem and Madness', 'mention': 'Tiger King', 'span': [58, 68]}, {'name': 'Q907311', 'entityType': 'entity', 'label': 'Netflix', 'mention': 'Netflix', 'span': [6, 13]}, {'name': 'Q85748936', 'entityType': 'entity', 'label': 'Bridgerton', 'mention': 'Bridgerton', 'span': [44, 54]}], 'answerEntity': [{'name': 'Q85748936', 'label': 'Bridgerton'}]}\n"
     ]
    }
   ],
   "source": [
    "for i in range(0, 50):\n",
    "    print(dataset[i])"
   ]
  },
  {
   "cell_type": "code",
   "execution_count": 25,
   "id": "7b2595b0",
   "metadata": {},
   "outputs": [
    {
     "name": "stdout",
     "output_type": "stream",
     "text": [
      "Dataset({\n",
      "    features: ['id', 'lang', 'question', 'answerText', 'category', 'complexityType', 'questionEntity', 'answerEntity'],\n",
      "    num_rows: 126000\n",
      "})\n"
     ]
    }
   ],
   "source": [
    "print(dataset)\n",
    "categories = set()\n",
    "english_langs = 0\n",
    "for entry in dataset:\n",
    "    categories.add(entry[\"category\"])\n",
    "    if entry[\"lang\"] == \"en\":\n",
    "        english_langs += 1\n",
    "    "
   ]
  },
  {
   "cell_type": "code",
   "execution_count": 23,
   "id": "4c019116",
   "metadata": {},
   "outputs": [
    {
     "data": {
      "text/plain": [
       "{'books',\n",
       " 'geography',\n",
       " 'history',\n",
       " 'movies',\n",
       " 'music',\n",
       " 'politics',\n",
       " 'sports',\n",
       " 'videogames'}"
      ]
     },
     "execution_count": 23,
     "metadata": {},
     "output_type": "execute_result"
    }
   ],
   "source": [
    "categories"
   ]
  },
  {
   "cell_type": "code",
   "execution_count": 26,
   "id": "33aeb409",
   "metadata": {},
   "outputs": [
    {
     "data": {
      "text/plain": [
       "14000"
      ]
     },
     "execution_count": 26,
     "metadata": {},
     "output_type": "execute_result"
    }
   ],
   "source": [
    "english_langs"
   ]
  },
  {
   "cell_type": "code",
   "execution_count": 36,
   "id": "cf4ac575",
   "metadata": {},
   "outputs": [],
   "source": [
    "file_path = r\"C:\\Users\\jayde\\OneDrive\\School\\Text Mining for AI\\project_text_mining\\final_project_tm\\data\\train_data\\topic-train.tsv\""
   ]
  },
  {
   "cell_type": "markdown",
   "id": "ad3d469f",
   "metadata": {},
   "source": [
    "Call the following to convert the data to a TSV file:\n",
    "\n",
    "```python\n",
    "utils.topic_data_to_file(raw_data, file_name)\n",
    "```"
   ]
  },
  {
   "cell_type": "code",
   "execution_count": 41,
   "id": "ed8f22e3",
   "metadata": {},
   "outputs": [],
   "source": [
    "df = pd.read_csv(file_path, sep=\"\\t\")"
   ]
  },
  {
   "cell_type": "code",
   "execution_count": 43,
   "id": "1ce11f12",
   "metadata": {},
   "outputs": [
    {
     "data": {
      "text/html": [
       "<div>\n",
       "<style scoped>\n",
       "    .dataframe tbody tr th:only-of-type {\n",
       "        vertical-align: middle;\n",
       "    }\n",
       "\n",
       "    .dataframe tbody tr th {\n",
       "        vertical-align: top;\n",
       "    }\n",
       "\n",
       "    .dataframe thead th {\n",
       "        text-align: right;\n",
       "    }\n",
       "</style>\n",
       "<table border=\"1\" class=\"dataframe\">\n",
       "  <thead>\n",
       "    <tr style=\"text-align: right;\">\n",
       "      <th></th>\n",
       "      <th>id</th>\n",
       "      <th>question</th>\n",
       "      <th>category</th>\n",
       "    </tr>\n",
       "  </thead>\n",
       "  <tbody>\n",
       "    <tr>\n",
       "      <th>0</th>\n",
       "      <td>a9011ddf</td>\n",
       "      <td>What is the seventh tallest mountain in North ...</td>\n",
       "      <td>geography</td>\n",
       "    </tr>\n",
       "    <tr>\n",
       "      <th>1</th>\n",
       "      <td>2723bb1b</td>\n",
       "      <td>Which actor was the star of Titanic and was bo...</td>\n",
       "      <td>movie</td>\n",
       "    </tr>\n",
       "    <tr>\n",
       "      <th>2</th>\n",
       "      <td>88349c89</td>\n",
       "      <td>Which actor starred in Vanilla Sky and was mar...</td>\n",
       "      <td>movie</td>\n",
       "    </tr>\n",
       "    <tr>\n",
       "      <th>3</th>\n",
       "      <td>bff78c91</td>\n",
       "      <td>What year was the first book of the A Song of ...</td>\n",
       "      <td>book</td>\n",
       "    </tr>\n",
       "    <tr>\n",
       "      <th>4</th>\n",
       "      <td>982450cf</td>\n",
       "      <td>Who is the youngest current US governor?</td>\n",
       "      <td>politics</td>\n",
       "    </tr>\n",
       "  </tbody>\n",
       "</table>\n",
       "</div>"
      ],
      "text/plain": [
       "         id                                           question   category\n",
       "0  a9011ddf  What is the seventh tallest mountain in North ...  geography\n",
       "1  2723bb1b  Which actor was the star of Titanic and was bo...      movie\n",
       "2  88349c89  Which actor starred in Vanilla Sky and was mar...      movie\n",
       "3  bff78c91  What year was the first book of the A Song of ...       book\n",
       "4  982450cf           Who is the youngest current US governor?   politics"
      ]
     },
     "execution_count": 43,
     "metadata": {},
     "output_type": "execute_result"
    }
   ],
   "source": [
    "df.head()"
   ]
  },
  {
   "cell_type": "markdown",
   "id": "77b4c87c",
   "metadata": {},
   "source": [
    "## Training the Model"
   ]
  },
  {
   "cell_type": "markdown",
   "id": "6c9edc2e",
   "metadata": {},
   "source": []
  }
 ],
 "metadata": {
  "kernelspec": {
   "display_name": "text_mining_env_fixed",
   "language": "python",
   "name": "python3"
  },
  "language_info": {
   "codemirror_mode": {
    "name": "ipython",
    "version": 3
   },
   "file_extension": ".py",
   "mimetype": "text/x-python",
   "name": "python",
   "nbconvert_exporter": "python",
   "pygments_lexer": "ipython3",
   "version": "3.12.9"
  }
 },
 "nbformat": 4,
 "nbformat_minor": 5
}
