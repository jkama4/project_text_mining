{
  "cells": [
    {
      "cell_type": "markdown",
      "id": "6de1ca04",
      "metadata": {
        "id": "6de1ca04"
      },
      "source": [
        "# Topic Modelling and Text Categorisation"
      ]
    },
    {
      "cell_type": "code",
      "source": [
        "!pip install -U datasets\n",
        "!pip install -U simpletransformers"
      ],
      "metadata": {
        "id": "XNq0LG_PjEIw"
      },
      "id": "XNq0LG_PjEIw",
      "execution_count": null,
      "outputs": []
    },
    {
      "cell_type": "code",
      "source": [
        "from datasets import load_dataset\n",
        "import pandas as pd\n",
        "\n",
        "ds = load_dataset(\"AmazonScience/mintaka\", 'en')\n",
        "\n",
        "train_df = pd.concat([pd.DataFrame(ds['train']), pd.DataFrame(ds['validation'])])[['question', 'category']]\n",
        "test_df = pd.DataFrame(ds['test'])[['question', 'category']]\n",
        "train_df.dropna(inplace=True)\n",
        "test_df.dropna(inplace=True)"
      ],
      "metadata": {
        "id": "wPh8uegFjKE2"
      },
      "id": "wPh8uegFjKE2",
      "execution_count": null,
      "outputs": []
    },
    {
      "cell_type": "code",
      "source": [
        "possible_topics_train = train_df['category'].unique()\n",
        "possible_topics_test = test_df['category'].unique()\n",
        "possible_topics = list(set(possible_topics_train) | set(possible_topics_test))\n",
        "print(possible_topics)\n",
        "print(len(possible_topics))"
      ],
      "metadata": {
        "id": "X8l3zTpTkSQm"
      },
      "id": "X8l3zTpTkSQm",
      "execution_count": null,
      "outputs": []
    },
    {
      "cell_type": "code",
      "source": [
        "print(train_df.head)\n",
        "print(train_df.shape)\n",
        "print(test_df.head)\n",
        "print(test_df.shape)"
      ],
      "metadata": {
        "id": "GDE3D-tYk06q"
      },
      "id": "GDE3D-tYk06q",
      "execution_count": null,
      "outputs": []
    },
    {
      "cell_type": "code",
      "execution_count": null,
      "id": "2ff773ae",
      "metadata": {
        "id": "2ff773ae"
      },
      "outputs": [],
      "source": [
        "from simpletransformers.classification import ClassificationModel, ClassificationArgs\n",
        "\n",
        "model_args = ClassificationArgs()\n",
        "\n",
        "model_args.overwrite_output_dir=True\n",
        "model_args.evaluate_during_training=True\n",
        "model_args.no_save = True\n",
        "\n",
        "model_args.max_seq_length=256\n",
        "model_args.use_early_stopping=True\n",
        "model_args.early_stopping_delta=0.01\n",
        "model_args.early_stopping_metric='eval_loss'\n",
        "model_args.early_stopping_metric_minimize=True\n",
        "model_args.early_stopping_patience=2\n",
        "model_args.evaluate_during_training_steps=32\n",
        "model_args.reprocess_input_data=True\n",
        "model_args.manual_seed=4\n",
        "model_args.use_multiprocessing=True\n",
        "model_args.labels_list=possible_topics\n",
        "model_args.wandb_project=\"Topic-Catagorization-Sweep\""
      ]
    },
    {
      "cell_type": "code",
      "source": [
        "import wandb\n",
        "\n",
        "def train_model():\n",
        "  wandb.init()\n",
        "  model = ClassificationModel(\"distilbert\", \"distilbert-base-uncased\", num_labels=len(possible_topics), args=model_args, use_cuda=True, sweep_config=wandb.config)\n",
        "  model.train_model(train_df, eval_df=test_df)"
      ],
      "metadata": {
        "id": "pLO2rmyolBlN"
      },
      "id": "pLO2rmyolBlN",
      "execution_count": null,
      "outputs": []
    },
    {
      "cell_type": "code",
      "source": [
        "wandb.login()\n",
        "\n",
        "sweep_configuration = {\n",
        "\t\"method\": \"grid\",\n",
        "\t\"metric\": {\"goal\": \"minimize\", \"name\": \"eval_loss\"},\n",
        "\t\"parameters\": {\n",
        "\t\t\"train_epochs\": {\"values\": [8, 10, 12, 16]},\n",
        "\t\t\"train_batch_size\": {\"values\": [16, 32, 64]},\n",
        "\t\t\"learning_rate\": {\"values\": [1e-6, 5e-5, 1e-5, 5e-4]},\n",
        "\t}\n",
        "}\n",
        "sweep_id = input(\"Please enter an existing sweep id if you want to continue an existing sweep (leave blank for a new sweep): \")\n",
        "sweep_id = None if sweep_id == \"\" else sweep_id\n",
        "\n",
        "if sweep_id is None:\n",
        "\tsweep_id = wandb.sweep(sweep=sweep_configuration, project=\"Topic-Catagorization-Sweep\")\n",
        "\n",
        "wandb.agent(sweep_id, function=train_model, project='Topic-Catagorization-Sweep')"
      ],
      "metadata": {
        "id": "0ZU5caeKlqD7"
      },
      "id": "0ZU5caeKlqD7",
      "execution_count": null,
      "outputs": []
    },
    {
      "cell_type": "code",
      "source": [
        "eval_df = pd.read_csv('./sentiment-topic-test.tsv', sep='\\t')\n",
        "eval_df = eval_df.dropna()\n",
        "eval_df.drop(['sentence_id', 'sentiment'], axis=1, inplace=True)\n",
        "eval_df.columns = ['question', 'category']\n",
        "eval_df['category'] = eval_df['category'].replace({'book': 'books', 'movie': 'movies'})\n",
        "eval_categories = eval_df['category'].unique()\n",
        "possible_topics = list(set(possible_topics_test) | set(eval_categories) | set(possible_topics_train))"
      ],
      "metadata": {
        "id": "tQ4UP0dKG0lo"
      },
      "id": "tQ4UP0dKG0lo",
      "execution_count": null,
      "outputs": []
    },
    {
      "cell_type": "code",
      "source": [
        "print(possible_topics)\n",
        "print(len(possible_topics))"
      ],
      "metadata": {
        "id": "j39XHESSmDeA"
      },
      "id": "j39XHESSmDeA",
      "execution_count": null,
      "outputs": []
    },
    {
      "cell_type": "code",
      "source": [
        "from simpletransformers.classification import ClassificationModel, ClassificationArgs\n",
        "\n",
        "best_model_args = ClassificationArgs()\n",
        "\n",
        "best_model_args.overwrite_output_dir=True\n",
        "best_model_args.evaluate_during_training=True\n",
        "best_model_args.no_save = True\n",
        "\n",
        "best_model_args.max_seq_length=256\n",
        "best_model_args.use_early_stopping=True\n",
        "best_model_args.early_stopping_delta=0.01\n",
        "best_model_args.early_stopping_metric='eval_loss'\n",
        "best_model_args.early_stopping_metric_minimize=True\n",
        "best_model_args.early_stopping_patience=2\n",
        "best_model_args.evaluate_during_training_steps=32\n",
        "best_model_args.reprocess_input_data=True\n",
        "best_model_args.manual_seed=25\n",
        "best_model_args.use_multiprocessing=True\n",
        "best_model_args.labels_list=possible_topics"
      ],
      "metadata": {
        "id": "MEU7iOsXGiAS"
      },
      "id": "MEU7iOsXGiAS",
      "execution_count": null,
      "outputs": []
    },
    {
      "cell_type": "code",
      "source": [
        "best_model_args.num_train_epochs=16\n",
        "best_model_args.train_batch_size=64\n",
        "best_model_args.learning_rate=5e-5\n",
        "\n",
        "best_model = ClassificationModel(\"distilbert\", \"distilbert-base-uncased\", num_labels=len(possible_topics), args=best_model_args, use_cuda=True)"
      ],
      "metadata": {
        "id": "RfBhAcQZoNsu"
      },
      "id": "RfBhAcQZoNsu",
      "execution_count": null,
      "outputs": []
    },
    {
      "cell_type": "code",
      "source": [
        "best_model.train_model(pd.concat([train_df, test_df]), eval_df=eval_df)"
      ],
      "metadata": {
        "id": "a9W-oWPcIRJ9"
      },
      "id": "a9W-oWPcIRJ9",
      "execution_count": null,
      "outputs": []
    },
    {
      "cell_type": "code",
      "source": [
        "from sklearn.metrics import classification_report\n",
        "\n",
        "predict, probabilities = best_model.predict(eval_df['question'].tolist())\n",
        "eval_df['predicted'] = predict\n",
        "print(classification_report(eval_df['sentiment'], eval_df['predicted']))"
      ],
      "metadata": {
        "id": "Bn2cbN8uIbSI"
      },
      "id": "Bn2cbN8uIbSI",
      "execution_count": null,
      "outputs": []
    }
  ],
  "metadata": {
    "kernelspec": {
      "display_name": "Python 3",
      "name": "python3"
    },
    "language_info": {
      "codemirror_mode": {
        "name": "ipython",
        "version": 3
      },
      "file_extension": ".py",
      "mimetype": "text/x-python",
      "name": "python",
      "nbconvert_exporter": "python",
      "pygments_lexer": "ipython3",
      "version": "3.12.9"
    },
    "colab": {
      "provenance": []
    }
  },
  "nbformat": 4,
  "nbformat_minor": 5
}
